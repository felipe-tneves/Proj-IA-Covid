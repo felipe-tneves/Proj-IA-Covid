{
  "nbformat": 4,
  "nbformat_minor": 0,
  "metadata": {
    "colab": {
      "name": "Proj_IA_Covid.ipynb",
      "provenance": [],
      "toc_visible": true,
      "authorship_tag": "ABX9TyPr6NF29gT2gaBYXPwCu3MN",
      "include_colab_link": true
    },
    "kernelspec": {
      "name": "python3",
      "display_name": "Python 3"
    },
    "language_info": {
      "name": "python"
    }
  },
  "cells": [
    {
      "cell_type": "markdown",
      "metadata": {
        "id": "view-in-github",
        "colab_type": "text"
      },
      "source": [
        "<a href=\"https://colab.research.google.com/github/felipe-tneves/Proj-IA-Covid/blob/main/Proj_IA_Covid.ipynb\" target=\"_parent\"><img src=\"https://colab.research.google.com/assets/colab-badge.svg\" alt=\"Open In Colab\"/></a>"
      ]
    },
    {
      "cell_type": "markdown",
      "source": [
        "# Trabalho de IA\n",
        "\n",
        "Aluno: Felipe Tadeu Neves Santos  \n",
        "\n",
        "RA: N3123E0\n",
        "\n",
        "Turma: CP9P01\n",
        "\n",
        "Disciplina: Inteligência Artificial\n",
        "\n",
        "Professor Vinicius Heltai\n",
        "\n",
        "Campus: Indianópolis/Bacelar\n",
        "\n",
        "# Integrantes do grupo:\n",
        "\n",
        "- Armando José de Souza D756320\n",
        "- Felipe Tadeu Neves Santos N3123E0\n",
        "- Giovanni Roberto Pereira Bonfante D500EG6\n",
        "- Thiago Ribeiro da Silva D58DID7\n",
        "- Victor Galves Aro N268972\n",
        "\n",
        "#Bases de dados usada:\n",
        "\n",
        "https://github.com/seade-R/dados-covid-sp/tree/master/data\n",
        "\n",
        "Relação de número de obitos de Covid com doenças pré-existentes  "
      ],
      "metadata": {
        "id": "pSwficsvVo7I"
      }
    },
    {
      "cell_type": "markdown",
      "source": [
        "# Base de dados "
      ],
      "metadata": {
        "id": "ZcZZAdD1WETj"
      }
    },
    {
      "cell_type": "code",
      "execution_count": 302,
      "metadata": {
        "colab": {
          "base_uri": "https://localhost:8080/",
          "height": 206
        },
        "id": "cul-JS_7Dhf6",
        "outputId": "e87145bc-2d6a-4574-89c6-655ca315778f"
      },
      "outputs": [
        {
          "output_type": "execute_result",
          "data": {
            "text/plain": [
              "  nome_munic  idade    cs_sexo  obito diabetes\n",
              "0  São Paulo     79  MASCULINO      1      SIM\n",
              "1  São Paulo     65  MASCULINO      0      SIM\n",
              "2  São Paulo     39  MASCULINO      0      SIM\n",
              "3  São Paulo     54  MASCULINO      0      SIM\n",
              "4  São Paulo     84  MASCULINO      0      SIM"
            ],
            "text/html": [
              "\n",
              "  <div id=\"df-f170cf28-dae4-40d5-a4a0-9c64b94b7854\">\n",
              "    <div class=\"colab-df-container\">\n",
              "      <div>\n",
              "<style scoped>\n",
              "    .dataframe tbody tr th:only-of-type {\n",
              "        vertical-align: middle;\n",
              "    }\n",
              "\n",
              "    .dataframe tbody tr th {\n",
              "        vertical-align: top;\n",
              "    }\n",
              "\n",
              "    .dataframe thead th {\n",
              "        text-align: right;\n",
              "    }\n",
              "</style>\n",
              "<table border=\"1\" class=\"dataframe\">\n",
              "  <thead>\n",
              "    <tr style=\"text-align: right;\">\n",
              "      <th></th>\n",
              "      <th>nome_munic</th>\n",
              "      <th>idade</th>\n",
              "      <th>cs_sexo</th>\n",
              "      <th>obito</th>\n",
              "      <th>diabetes</th>\n",
              "    </tr>\n",
              "  </thead>\n",
              "  <tbody>\n",
              "    <tr>\n",
              "      <th>0</th>\n",
              "      <td>São Paulo</td>\n",
              "      <td>79</td>\n",
              "      <td>MASCULINO</td>\n",
              "      <td>1</td>\n",
              "      <td>SIM</td>\n",
              "    </tr>\n",
              "    <tr>\n",
              "      <th>1</th>\n",
              "      <td>São Paulo</td>\n",
              "      <td>65</td>\n",
              "      <td>MASCULINO</td>\n",
              "      <td>0</td>\n",
              "      <td>SIM</td>\n",
              "    </tr>\n",
              "    <tr>\n",
              "      <th>2</th>\n",
              "      <td>São Paulo</td>\n",
              "      <td>39</td>\n",
              "      <td>MASCULINO</td>\n",
              "      <td>0</td>\n",
              "      <td>SIM</td>\n",
              "    </tr>\n",
              "    <tr>\n",
              "      <th>3</th>\n",
              "      <td>São Paulo</td>\n",
              "      <td>54</td>\n",
              "      <td>MASCULINO</td>\n",
              "      <td>0</td>\n",
              "      <td>SIM</td>\n",
              "    </tr>\n",
              "    <tr>\n",
              "      <th>4</th>\n",
              "      <td>São Paulo</td>\n",
              "      <td>84</td>\n",
              "      <td>MASCULINO</td>\n",
              "      <td>0</td>\n",
              "      <td>SIM</td>\n",
              "    </tr>\n",
              "  </tbody>\n",
              "</table>\n",
              "</div>\n",
              "      <button class=\"colab-df-convert\" onclick=\"convertToInteractive('df-f170cf28-dae4-40d5-a4a0-9c64b94b7854')\"\n",
              "              title=\"Convert this dataframe to an interactive table.\"\n",
              "              style=\"display:none;\">\n",
              "        \n",
              "  <svg xmlns=\"http://www.w3.org/2000/svg\" height=\"24px\"viewBox=\"0 0 24 24\"\n",
              "       width=\"24px\">\n",
              "    <path d=\"M0 0h24v24H0V0z\" fill=\"none\"/>\n",
              "    <path d=\"M18.56 5.44l.94 2.06.94-2.06 2.06-.94-2.06-.94-.94-2.06-.94 2.06-2.06.94zm-11 1L8.5 8.5l.94-2.06 2.06-.94-2.06-.94L8.5 2.5l-.94 2.06-2.06.94zm10 10l.94 2.06.94-2.06 2.06-.94-2.06-.94-.94-2.06-.94 2.06-2.06.94z\"/><path d=\"M17.41 7.96l-1.37-1.37c-.4-.4-.92-.59-1.43-.59-.52 0-1.04.2-1.43.59L10.3 9.45l-7.72 7.72c-.78.78-.78 2.05 0 2.83L4 21.41c.39.39.9.59 1.41.59.51 0 1.02-.2 1.41-.59l7.78-7.78 2.81-2.81c.8-.78.8-2.07 0-2.86zM5.41 20L4 18.59l7.72-7.72 1.47 1.35L5.41 20z\"/>\n",
              "  </svg>\n",
              "      </button>\n",
              "      \n",
              "  <style>\n",
              "    .colab-df-container {\n",
              "      display:flex;\n",
              "      flex-wrap:wrap;\n",
              "      gap: 12px;\n",
              "    }\n",
              "\n",
              "    .colab-df-convert {\n",
              "      background-color: #E8F0FE;\n",
              "      border: none;\n",
              "      border-radius: 50%;\n",
              "      cursor: pointer;\n",
              "      display: none;\n",
              "      fill: #1967D2;\n",
              "      height: 32px;\n",
              "      padding: 0 0 0 0;\n",
              "      width: 32px;\n",
              "    }\n",
              "\n",
              "    .colab-df-convert:hover {\n",
              "      background-color: #E2EBFA;\n",
              "      box-shadow: 0px 1px 2px rgba(60, 64, 67, 0.3), 0px 1px 3px 1px rgba(60, 64, 67, 0.15);\n",
              "      fill: #174EA6;\n",
              "    }\n",
              "\n",
              "    [theme=dark] .colab-df-convert {\n",
              "      background-color: #3B4455;\n",
              "      fill: #D2E3FC;\n",
              "    }\n",
              "\n",
              "    [theme=dark] .colab-df-convert:hover {\n",
              "      background-color: #434B5C;\n",
              "      box-shadow: 0px 1px 3px 1px rgba(0, 0, 0, 0.15);\n",
              "      filter: drop-shadow(0px 1px 2px rgba(0, 0, 0, 0.3));\n",
              "      fill: #FFFFFF;\n",
              "    }\n",
              "  </style>\n",
              "\n",
              "      <script>\n",
              "        const buttonEl =\n",
              "          document.querySelector('#df-f170cf28-dae4-40d5-a4a0-9c64b94b7854 button.colab-df-convert');\n",
              "        buttonEl.style.display =\n",
              "          google.colab.kernel.accessAllowed ? 'block' : 'none';\n",
              "\n",
              "        async function convertToInteractive(key) {\n",
              "          const element = document.querySelector('#df-f170cf28-dae4-40d5-a4a0-9c64b94b7854');\n",
              "          const dataTable =\n",
              "            await google.colab.kernel.invokeFunction('convertToInteractive',\n",
              "                                                     [key], {});\n",
              "          if (!dataTable) return;\n",
              "\n",
              "          const docLinkHtml = 'Like what you see? Visit the ' +\n",
              "            '<a target=\"_blank\" href=https://colab.research.google.com/notebooks/data_table.ipynb>data table notebook</a>'\n",
              "            + ' to learn more about interactive tables.';\n",
              "          element.innerHTML = '';\n",
              "          dataTable['output_type'] = 'display_data';\n",
              "          await google.colab.output.renderOutput(dataTable, element);\n",
              "          const docLink = document.createElement('div');\n",
              "          docLink.innerHTML = docLinkHtml;\n",
              "          element.appendChild(docLink);\n",
              "        }\n",
              "      </script>\n",
              "    </div>\n",
              "  </div>\n",
              "  "
            ]
          },
          "metadata": {},
          "execution_count": 302
        }
      ],
      "source": [
        "# Importa a biblioteca Pandas:\n",
        "import pandas as pd\n",
        "\n",
        "# Determina qual é a URL que consta nossos dados:\n",
        "URL = \"https://raw.githubusercontent.com/felipe-tneves/Proj-IA-Covid/main/SP-Covid-doen%C3%A7as%20pre%20existentes.csv\"\n",
        "\n",
        "# Define como dados todos os dados extraidos pelo Pandas Read de CSV:\n",
        "dados = pd.read_csv(URL, encoding=\"ISO-8859-1\")\n",
        "\n",
        "# Imprime os primeiros itens dos dados para confirmar:\n",
        "dados.head()"
      ]
    },
    {
      "cell_type": "code",
      "source": [
        "# Cria o dicionario de equivalencia:\n",
        "a_renomear = {\n",
        "    'nome_munic' : 'cidade_SP',\n",
        "    'cs_sexo' : 'sexo'\n",
        "}\n",
        "\n",
        "# Atribui novamente a dados com a renomeação do dicionario:\n",
        "dados = dados.rename(columns = a_renomear)\n",
        "\n",
        "# Apresenta o head inicial dos dados (ja modificados):\n",
        "dados.head()"
      ],
      "metadata": {
        "colab": {
          "base_uri": "https://localhost:8080/",
          "height": 206
        },
        "id": "Bx7YWG7kEXge",
        "outputId": "918bb1f5-ba5e-44ad-acbe-0a4852e6425e"
      },
      "execution_count": 303,
      "outputs": [
        {
          "output_type": "execute_result",
          "data": {
            "text/plain": [
              "   cidade_SP  idade       sexo  obito diabetes\n",
              "0  São Paulo     79  MASCULINO      1      SIM\n",
              "1  São Paulo     65  MASCULINO      0      SIM\n",
              "2  São Paulo     39  MASCULINO      0      SIM\n",
              "3  São Paulo     54  MASCULINO      0      SIM\n",
              "4  São Paulo     84  MASCULINO      0      SIM"
            ],
            "text/html": [
              "\n",
              "  <div id=\"df-ea6e0f6f-78ff-401c-940b-e56d7397df30\">\n",
              "    <div class=\"colab-df-container\">\n",
              "      <div>\n",
              "<style scoped>\n",
              "    .dataframe tbody tr th:only-of-type {\n",
              "        vertical-align: middle;\n",
              "    }\n",
              "\n",
              "    .dataframe tbody tr th {\n",
              "        vertical-align: top;\n",
              "    }\n",
              "\n",
              "    .dataframe thead th {\n",
              "        text-align: right;\n",
              "    }\n",
              "</style>\n",
              "<table border=\"1\" class=\"dataframe\">\n",
              "  <thead>\n",
              "    <tr style=\"text-align: right;\">\n",
              "      <th></th>\n",
              "      <th>cidade_SP</th>\n",
              "      <th>idade</th>\n",
              "      <th>sexo</th>\n",
              "      <th>obito</th>\n",
              "      <th>diabetes</th>\n",
              "    </tr>\n",
              "  </thead>\n",
              "  <tbody>\n",
              "    <tr>\n",
              "      <th>0</th>\n",
              "      <td>São Paulo</td>\n",
              "      <td>79</td>\n",
              "      <td>MASCULINO</td>\n",
              "      <td>1</td>\n",
              "      <td>SIM</td>\n",
              "    </tr>\n",
              "    <tr>\n",
              "      <th>1</th>\n",
              "      <td>São Paulo</td>\n",
              "      <td>65</td>\n",
              "      <td>MASCULINO</td>\n",
              "      <td>0</td>\n",
              "      <td>SIM</td>\n",
              "    </tr>\n",
              "    <tr>\n",
              "      <th>2</th>\n",
              "      <td>São Paulo</td>\n",
              "      <td>39</td>\n",
              "      <td>MASCULINO</td>\n",
              "      <td>0</td>\n",
              "      <td>SIM</td>\n",
              "    </tr>\n",
              "    <tr>\n",
              "      <th>3</th>\n",
              "      <td>São Paulo</td>\n",
              "      <td>54</td>\n",
              "      <td>MASCULINO</td>\n",
              "      <td>0</td>\n",
              "      <td>SIM</td>\n",
              "    </tr>\n",
              "    <tr>\n",
              "      <th>4</th>\n",
              "      <td>São Paulo</td>\n",
              "      <td>84</td>\n",
              "      <td>MASCULINO</td>\n",
              "      <td>0</td>\n",
              "      <td>SIM</td>\n",
              "    </tr>\n",
              "  </tbody>\n",
              "</table>\n",
              "</div>\n",
              "      <button class=\"colab-df-convert\" onclick=\"convertToInteractive('df-ea6e0f6f-78ff-401c-940b-e56d7397df30')\"\n",
              "              title=\"Convert this dataframe to an interactive table.\"\n",
              "              style=\"display:none;\">\n",
              "        \n",
              "  <svg xmlns=\"http://www.w3.org/2000/svg\" height=\"24px\"viewBox=\"0 0 24 24\"\n",
              "       width=\"24px\">\n",
              "    <path d=\"M0 0h24v24H0V0z\" fill=\"none\"/>\n",
              "    <path d=\"M18.56 5.44l.94 2.06.94-2.06 2.06-.94-2.06-.94-.94-2.06-.94 2.06-2.06.94zm-11 1L8.5 8.5l.94-2.06 2.06-.94-2.06-.94L8.5 2.5l-.94 2.06-2.06.94zm10 10l.94 2.06.94-2.06 2.06-.94-2.06-.94-.94-2.06-.94 2.06-2.06.94z\"/><path d=\"M17.41 7.96l-1.37-1.37c-.4-.4-.92-.59-1.43-.59-.52 0-1.04.2-1.43.59L10.3 9.45l-7.72 7.72c-.78.78-.78 2.05 0 2.83L4 21.41c.39.39.9.59 1.41.59.51 0 1.02-.2 1.41-.59l7.78-7.78 2.81-2.81c.8-.78.8-2.07 0-2.86zM5.41 20L4 18.59l7.72-7.72 1.47 1.35L5.41 20z\"/>\n",
              "  </svg>\n",
              "      </button>\n",
              "      \n",
              "  <style>\n",
              "    .colab-df-container {\n",
              "      display:flex;\n",
              "      flex-wrap:wrap;\n",
              "      gap: 12px;\n",
              "    }\n",
              "\n",
              "    .colab-df-convert {\n",
              "      background-color: #E8F0FE;\n",
              "      border: none;\n",
              "      border-radius: 50%;\n",
              "      cursor: pointer;\n",
              "      display: none;\n",
              "      fill: #1967D2;\n",
              "      height: 32px;\n",
              "      padding: 0 0 0 0;\n",
              "      width: 32px;\n",
              "    }\n",
              "\n",
              "    .colab-df-convert:hover {\n",
              "      background-color: #E2EBFA;\n",
              "      box-shadow: 0px 1px 2px rgba(60, 64, 67, 0.3), 0px 1px 3px 1px rgba(60, 64, 67, 0.15);\n",
              "      fill: #174EA6;\n",
              "    }\n",
              "\n",
              "    [theme=dark] .colab-df-convert {\n",
              "      background-color: #3B4455;\n",
              "      fill: #D2E3FC;\n",
              "    }\n",
              "\n",
              "    [theme=dark] .colab-df-convert:hover {\n",
              "      background-color: #434B5C;\n",
              "      box-shadow: 0px 1px 3px 1px rgba(0, 0, 0, 0.15);\n",
              "      filter: drop-shadow(0px 1px 2px rgba(0, 0, 0, 0.3));\n",
              "      fill: #FFFFFF;\n",
              "    }\n",
              "  </style>\n",
              "\n",
              "      <script>\n",
              "        const buttonEl =\n",
              "          document.querySelector('#df-ea6e0f6f-78ff-401c-940b-e56d7397df30 button.colab-df-convert');\n",
              "        buttonEl.style.display =\n",
              "          google.colab.kernel.accessAllowed ? 'block' : 'none';\n",
              "\n",
              "        async function convertToInteractive(key) {\n",
              "          const element = document.querySelector('#df-ea6e0f6f-78ff-401c-940b-e56d7397df30');\n",
              "          const dataTable =\n",
              "            await google.colab.kernel.invokeFunction('convertToInteractive',\n",
              "                                                     [key], {});\n",
              "          if (!dataTable) return;\n",
              "\n",
              "          const docLinkHtml = 'Like what you see? Visit the ' +\n",
              "            '<a target=\"_blank\" href=https://colab.research.google.com/notebooks/data_table.ipynb>data table notebook</a>'\n",
              "            + ' to learn more about interactive tables.';\n",
              "          element.innerHTML = '';\n",
              "          dataTable['output_type'] = 'display_data';\n",
              "          await google.colab.output.renderOutput(dataTable, element);\n",
              "          const docLink = document.createElement('div');\n",
              "          docLink.innerHTML = docLinkHtml;\n",
              "          element.appendChild(docLink);\n",
              "        }\n",
              "      </script>\n",
              "    </div>\n",
              "  </div>\n",
              "  "
            ]
          },
          "metadata": {},
          "execution_count": 303
        }
      ]
    },
    {
      "cell_type": "code",
      "source": [
        "# Apresenta o head final dos dados (ja modificados):\n",
        "dados.tail()"
      ],
      "metadata": {
        "colab": {
          "base_uri": "https://localhost:8080/",
          "height": 206
        },
        "id": "EuiBgKq8Ezyf",
        "outputId": "d1148483-eb50-414e-b8f4-a1c6e9b86851"
      },
      "execution_count": 304,
      "outputs": [
        {
          "output_type": "execute_result",
          "data": {
            "text/plain": [
              "      cidade_SP  idade       sexo  obito diabetes\n",
              "3368  São Paulo     39  MASCULINO      0      SIM\n",
              "3369  São Paulo     67  MASCULINO      0      SIM\n",
              "3370  São Paulo     80  MASCULINO      0      SIM\n",
              "3371  São Paulo     84  MASCULINO      1      NÃO\n",
              "3372  São Paulo     74  MASCULINO      0      SIM"
            ],
            "text/html": [
              "\n",
              "  <div id=\"df-24929289-ffac-4a2f-bca2-4762725c0587\">\n",
              "    <div class=\"colab-df-container\">\n",
              "      <div>\n",
              "<style scoped>\n",
              "    .dataframe tbody tr th:only-of-type {\n",
              "        vertical-align: middle;\n",
              "    }\n",
              "\n",
              "    .dataframe tbody tr th {\n",
              "        vertical-align: top;\n",
              "    }\n",
              "\n",
              "    .dataframe thead th {\n",
              "        text-align: right;\n",
              "    }\n",
              "</style>\n",
              "<table border=\"1\" class=\"dataframe\">\n",
              "  <thead>\n",
              "    <tr style=\"text-align: right;\">\n",
              "      <th></th>\n",
              "      <th>cidade_SP</th>\n",
              "      <th>idade</th>\n",
              "      <th>sexo</th>\n",
              "      <th>obito</th>\n",
              "      <th>diabetes</th>\n",
              "    </tr>\n",
              "  </thead>\n",
              "  <tbody>\n",
              "    <tr>\n",
              "      <th>3368</th>\n",
              "      <td>São Paulo</td>\n",
              "      <td>39</td>\n",
              "      <td>MASCULINO</td>\n",
              "      <td>0</td>\n",
              "      <td>SIM</td>\n",
              "    </tr>\n",
              "    <tr>\n",
              "      <th>3369</th>\n",
              "      <td>São Paulo</td>\n",
              "      <td>67</td>\n",
              "      <td>MASCULINO</td>\n",
              "      <td>0</td>\n",
              "      <td>SIM</td>\n",
              "    </tr>\n",
              "    <tr>\n",
              "      <th>3370</th>\n",
              "      <td>São Paulo</td>\n",
              "      <td>80</td>\n",
              "      <td>MASCULINO</td>\n",
              "      <td>0</td>\n",
              "      <td>SIM</td>\n",
              "    </tr>\n",
              "    <tr>\n",
              "      <th>3371</th>\n",
              "      <td>São Paulo</td>\n",
              "      <td>84</td>\n",
              "      <td>MASCULINO</td>\n",
              "      <td>1</td>\n",
              "      <td>NÃO</td>\n",
              "    </tr>\n",
              "    <tr>\n",
              "      <th>3372</th>\n",
              "      <td>São Paulo</td>\n",
              "      <td>74</td>\n",
              "      <td>MASCULINO</td>\n",
              "      <td>0</td>\n",
              "      <td>SIM</td>\n",
              "    </tr>\n",
              "  </tbody>\n",
              "</table>\n",
              "</div>\n",
              "      <button class=\"colab-df-convert\" onclick=\"convertToInteractive('df-24929289-ffac-4a2f-bca2-4762725c0587')\"\n",
              "              title=\"Convert this dataframe to an interactive table.\"\n",
              "              style=\"display:none;\">\n",
              "        \n",
              "  <svg xmlns=\"http://www.w3.org/2000/svg\" height=\"24px\"viewBox=\"0 0 24 24\"\n",
              "       width=\"24px\">\n",
              "    <path d=\"M0 0h24v24H0V0z\" fill=\"none\"/>\n",
              "    <path d=\"M18.56 5.44l.94 2.06.94-2.06 2.06-.94-2.06-.94-.94-2.06-.94 2.06-2.06.94zm-11 1L8.5 8.5l.94-2.06 2.06-.94-2.06-.94L8.5 2.5l-.94 2.06-2.06.94zm10 10l.94 2.06.94-2.06 2.06-.94-2.06-.94-.94-2.06-.94 2.06-2.06.94z\"/><path d=\"M17.41 7.96l-1.37-1.37c-.4-.4-.92-.59-1.43-.59-.52 0-1.04.2-1.43.59L10.3 9.45l-7.72 7.72c-.78.78-.78 2.05 0 2.83L4 21.41c.39.39.9.59 1.41.59.51 0 1.02-.2 1.41-.59l7.78-7.78 2.81-2.81c.8-.78.8-2.07 0-2.86zM5.41 20L4 18.59l7.72-7.72 1.47 1.35L5.41 20z\"/>\n",
              "  </svg>\n",
              "      </button>\n",
              "      \n",
              "  <style>\n",
              "    .colab-df-container {\n",
              "      display:flex;\n",
              "      flex-wrap:wrap;\n",
              "      gap: 12px;\n",
              "    }\n",
              "\n",
              "    .colab-df-convert {\n",
              "      background-color: #E8F0FE;\n",
              "      border: none;\n",
              "      border-radius: 50%;\n",
              "      cursor: pointer;\n",
              "      display: none;\n",
              "      fill: #1967D2;\n",
              "      height: 32px;\n",
              "      padding: 0 0 0 0;\n",
              "      width: 32px;\n",
              "    }\n",
              "\n",
              "    .colab-df-convert:hover {\n",
              "      background-color: #E2EBFA;\n",
              "      box-shadow: 0px 1px 2px rgba(60, 64, 67, 0.3), 0px 1px 3px 1px rgba(60, 64, 67, 0.15);\n",
              "      fill: #174EA6;\n",
              "    }\n",
              "\n",
              "    [theme=dark] .colab-df-convert {\n",
              "      background-color: #3B4455;\n",
              "      fill: #D2E3FC;\n",
              "    }\n",
              "\n",
              "    [theme=dark] .colab-df-convert:hover {\n",
              "      background-color: #434B5C;\n",
              "      box-shadow: 0px 1px 3px 1px rgba(0, 0, 0, 0.15);\n",
              "      filter: drop-shadow(0px 1px 2px rgba(0, 0, 0, 0.3));\n",
              "      fill: #FFFFFF;\n",
              "    }\n",
              "  </style>\n",
              "\n",
              "      <script>\n",
              "        const buttonEl =\n",
              "          document.querySelector('#df-24929289-ffac-4a2f-bca2-4762725c0587 button.colab-df-convert');\n",
              "        buttonEl.style.display =\n",
              "          google.colab.kernel.accessAllowed ? 'block' : 'none';\n",
              "\n",
              "        async function convertToInteractive(key) {\n",
              "          const element = document.querySelector('#df-24929289-ffac-4a2f-bca2-4762725c0587');\n",
              "          const dataTable =\n",
              "            await google.colab.kernel.invokeFunction('convertToInteractive',\n",
              "                                                     [key], {});\n",
              "          if (!dataTable) return;\n",
              "\n",
              "          const docLinkHtml = 'Like what you see? Visit the ' +\n",
              "            '<a target=\"_blank\" href=https://colab.research.google.com/notebooks/data_table.ipynb>data table notebook</a>'\n",
              "            + ' to learn more about interactive tables.';\n",
              "          element.innerHTML = '';\n",
              "          dataTable['output_type'] = 'display_data';\n",
              "          await google.colab.output.renderOutput(dataTable, element);\n",
              "          const docLink = document.createElement('div');\n",
              "          docLink.innerHTML = docLinkHtml;\n",
              "          element.appendChild(docLink);\n",
              "        }\n",
              "      </script>\n",
              "    </div>\n",
              "  </div>\n",
              "  "
            ]
          },
          "metadata": {},
          "execution_count": 304
        }
      ]
    },
    {
      "cell_type": "code",
      "source": [
        "# Dicionario de Troca de SIM para 1 e NÃO para 0:\n",
        "troca = {\n",
        "    'SIM' : 1,\n",
        "    'NÃO' : 0\n",
        "}\n",
        "# Aplica o dicionario e atribui numa coluna \"diabetes\"\n",
        "\n",
        "dados['diabetes'] = dados.diabetes.map(troca)\n",
        "\n",
        "# Apresenta o head inicial dos dados (ja modificados):\n",
        "dados.head()"
      ],
      "metadata": {
        "colab": {
          "base_uri": "https://localhost:8080/",
          "height": 206
        },
        "id": "WXBiNUKyE3N4",
        "outputId": "42e781e5-4d3b-4dd4-a7cb-4924b5ff0767"
      },
      "execution_count": 305,
      "outputs": [
        {
          "output_type": "execute_result",
          "data": {
            "text/plain": [
              "   cidade_SP  idade       sexo  obito  diabetes\n",
              "0  São Paulo     79  MASCULINO      1         1\n",
              "1  São Paulo     65  MASCULINO      0         1\n",
              "2  São Paulo     39  MASCULINO      0         1\n",
              "3  São Paulo     54  MASCULINO      0         1\n",
              "4  São Paulo     84  MASCULINO      0         1"
            ],
            "text/html": [
              "\n",
              "  <div id=\"df-ee90673f-722a-43ff-bea7-faf8cdb439f5\">\n",
              "    <div class=\"colab-df-container\">\n",
              "      <div>\n",
              "<style scoped>\n",
              "    .dataframe tbody tr th:only-of-type {\n",
              "        vertical-align: middle;\n",
              "    }\n",
              "\n",
              "    .dataframe tbody tr th {\n",
              "        vertical-align: top;\n",
              "    }\n",
              "\n",
              "    .dataframe thead th {\n",
              "        text-align: right;\n",
              "    }\n",
              "</style>\n",
              "<table border=\"1\" class=\"dataframe\">\n",
              "  <thead>\n",
              "    <tr style=\"text-align: right;\">\n",
              "      <th></th>\n",
              "      <th>cidade_SP</th>\n",
              "      <th>idade</th>\n",
              "      <th>sexo</th>\n",
              "      <th>obito</th>\n",
              "      <th>diabetes</th>\n",
              "    </tr>\n",
              "  </thead>\n",
              "  <tbody>\n",
              "    <tr>\n",
              "      <th>0</th>\n",
              "      <td>São Paulo</td>\n",
              "      <td>79</td>\n",
              "      <td>MASCULINO</td>\n",
              "      <td>1</td>\n",
              "      <td>1</td>\n",
              "    </tr>\n",
              "    <tr>\n",
              "      <th>1</th>\n",
              "      <td>São Paulo</td>\n",
              "      <td>65</td>\n",
              "      <td>MASCULINO</td>\n",
              "      <td>0</td>\n",
              "      <td>1</td>\n",
              "    </tr>\n",
              "    <tr>\n",
              "      <th>2</th>\n",
              "      <td>São Paulo</td>\n",
              "      <td>39</td>\n",
              "      <td>MASCULINO</td>\n",
              "      <td>0</td>\n",
              "      <td>1</td>\n",
              "    </tr>\n",
              "    <tr>\n",
              "      <th>3</th>\n",
              "      <td>São Paulo</td>\n",
              "      <td>54</td>\n",
              "      <td>MASCULINO</td>\n",
              "      <td>0</td>\n",
              "      <td>1</td>\n",
              "    </tr>\n",
              "    <tr>\n",
              "      <th>4</th>\n",
              "      <td>São Paulo</td>\n",
              "      <td>84</td>\n",
              "      <td>MASCULINO</td>\n",
              "      <td>0</td>\n",
              "      <td>1</td>\n",
              "    </tr>\n",
              "  </tbody>\n",
              "</table>\n",
              "</div>\n",
              "      <button class=\"colab-df-convert\" onclick=\"convertToInteractive('df-ee90673f-722a-43ff-bea7-faf8cdb439f5')\"\n",
              "              title=\"Convert this dataframe to an interactive table.\"\n",
              "              style=\"display:none;\">\n",
              "        \n",
              "  <svg xmlns=\"http://www.w3.org/2000/svg\" height=\"24px\"viewBox=\"0 0 24 24\"\n",
              "       width=\"24px\">\n",
              "    <path d=\"M0 0h24v24H0V0z\" fill=\"none\"/>\n",
              "    <path d=\"M18.56 5.44l.94 2.06.94-2.06 2.06-.94-2.06-.94-.94-2.06-.94 2.06-2.06.94zm-11 1L8.5 8.5l.94-2.06 2.06-.94-2.06-.94L8.5 2.5l-.94 2.06-2.06.94zm10 10l.94 2.06.94-2.06 2.06-.94-2.06-.94-.94-2.06-.94 2.06-2.06.94z\"/><path d=\"M17.41 7.96l-1.37-1.37c-.4-.4-.92-.59-1.43-.59-.52 0-1.04.2-1.43.59L10.3 9.45l-7.72 7.72c-.78.78-.78 2.05 0 2.83L4 21.41c.39.39.9.59 1.41.59.51 0 1.02-.2 1.41-.59l7.78-7.78 2.81-2.81c.8-.78.8-2.07 0-2.86zM5.41 20L4 18.59l7.72-7.72 1.47 1.35L5.41 20z\"/>\n",
              "  </svg>\n",
              "      </button>\n",
              "      \n",
              "  <style>\n",
              "    .colab-df-container {\n",
              "      display:flex;\n",
              "      flex-wrap:wrap;\n",
              "      gap: 12px;\n",
              "    }\n",
              "\n",
              "    .colab-df-convert {\n",
              "      background-color: #E8F0FE;\n",
              "      border: none;\n",
              "      border-radius: 50%;\n",
              "      cursor: pointer;\n",
              "      display: none;\n",
              "      fill: #1967D2;\n",
              "      height: 32px;\n",
              "      padding: 0 0 0 0;\n",
              "      width: 32px;\n",
              "    }\n",
              "\n",
              "    .colab-df-convert:hover {\n",
              "      background-color: #E2EBFA;\n",
              "      box-shadow: 0px 1px 2px rgba(60, 64, 67, 0.3), 0px 1px 3px 1px rgba(60, 64, 67, 0.15);\n",
              "      fill: #174EA6;\n",
              "    }\n",
              "\n",
              "    [theme=dark] .colab-df-convert {\n",
              "      background-color: #3B4455;\n",
              "      fill: #D2E3FC;\n",
              "    }\n",
              "\n",
              "    [theme=dark] .colab-df-convert:hover {\n",
              "      background-color: #434B5C;\n",
              "      box-shadow: 0px 1px 3px 1px rgba(0, 0, 0, 0.15);\n",
              "      filter: drop-shadow(0px 1px 2px rgba(0, 0, 0, 0.3));\n",
              "      fill: #FFFFFF;\n",
              "    }\n",
              "  </style>\n",
              "\n",
              "      <script>\n",
              "        const buttonEl =\n",
              "          document.querySelector('#df-ee90673f-722a-43ff-bea7-faf8cdb439f5 button.colab-df-convert');\n",
              "        buttonEl.style.display =\n",
              "          google.colab.kernel.accessAllowed ? 'block' : 'none';\n",
              "\n",
              "        async function convertToInteractive(key) {\n",
              "          const element = document.querySelector('#df-ee90673f-722a-43ff-bea7-faf8cdb439f5');\n",
              "          const dataTable =\n",
              "            await google.colab.kernel.invokeFunction('convertToInteractive',\n",
              "                                                     [key], {});\n",
              "          if (!dataTable) return;\n",
              "\n",
              "          const docLinkHtml = 'Like what you see? Visit the ' +\n",
              "            '<a target=\"_blank\" href=https://colab.research.google.com/notebooks/data_table.ipynb>data table notebook</a>'\n",
              "            + ' to learn more about interactive tables.';\n",
              "          element.innerHTML = '';\n",
              "          dataTable['output_type'] = 'display_data';\n",
              "          await google.colab.output.renderOutput(dataTable, element);\n",
              "          const docLink = document.createElement('div');\n",
              "          docLink.innerHTML = docLinkHtml;\n",
              "          element.appendChild(docLink);\n",
              "        }\n",
              "      </script>\n",
              "    </div>\n",
              "  </div>\n",
              "  "
            ]
          },
          "metadata": {},
          "execution_count": 305
        }
      ]
    },
    {
      "cell_type": "code",
      "source": [
        "# Dicionario de Troca de MASCULINO para 1 e FEMININO para 0:\n",
        "troca = {\n",
        "    'MASCULINO' : 1,\n",
        "    'FEMININO' : 0\n",
        "}\n",
        "# Aplica o dicionario e atribui na coluna \"sexo\"\n",
        "dados['sexo'] = dados.sexo.map(troca)\n",
        "\n",
        "# Apresenta o head inicial dos dados (ja modificados):\n",
        "dados.head()"
      ],
      "metadata": {
        "colab": {
          "base_uri": "https://localhost:8080/",
          "height": 206
        },
        "id": "IRR1su-YFV63",
        "outputId": "dabf8764-cad7-4ff5-d549-2a39fd4bbc34"
      },
      "execution_count": 306,
      "outputs": [
        {
          "output_type": "execute_result",
          "data": {
            "text/plain": [
              "   cidade_SP  idade  sexo  obito  diabetes\n",
              "0  São Paulo     79     1      1         1\n",
              "1  São Paulo     65     1      0         1\n",
              "2  São Paulo     39     1      0         1\n",
              "3  São Paulo     54     1      0         1\n",
              "4  São Paulo     84     1      0         1"
            ],
            "text/html": [
              "\n",
              "  <div id=\"df-15a82bd1-6273-43ff-a601-527de1fc385c\">\n",
              "    <div class=\"colab-df-container\">\n",
              "      <div>\n",
              "<style scoped>\n",
              "    .dataframe tbody tr th:only-of-type {\n",
              "        vertical-align: middle;\n",
              "    }\n",
              "\n",
              "    .dataframe tbody tr th {\n",
              "        vertical-align: top;\n",
              "    }\n",
              "\n",
              "    .dataframe thead th {\n",
              "        text-align: right;\n",
              "    }\n",
              "</style>\n",
              "<table border=\"1\" class=\"dataframe\">\n",
              "  <thead>\n",
              "    <tr style=\"text-align: right;\">\n",
              "      <th></th>\n",
              "      <th>cidade_SP</th>\n",
              "      <th>idade</th>\n",
              "      <th>sexo</th>\n",
              "      <th>obito</th>\n",
              "      <th>diabetes</th>\n",
              "    </tr>\n",
              "  </thead>\n",
              "  <tbody>\n",
              "    <tr>\n",
              "      <th>0</th>\n",
              "      <td>São Paulo</td>\n",
              "      <td>79</td>\n",
              "      <td>1</td>\n",
              "      <td>1</td>\n",
              "      <td>1</td>\n",
              "    </tr>\n",
              "    <tr>\n",
              "      <th>1</th>\n",
              "      <td>São Paulo</td>\n",
              "      <td>65</td>\n",
              "      <td>1</td>\n",
              "      <td>0</td>\n",
              "      <td>1</td>\n",
              "    </tr>\n",
              "    <tr>\n",
              "      <th>2</th>\n",
              "      <td>São Paulo</td>\n",
              "      <td>39</td>\n",
              "      <td>1</td>\n",
              "      <td>0</td>\n",
              "      <td>1</td>\n",
              "    </tr>\n",
              "    <tr>\n",
              "      <th>3</th>\n",
              "      <td>São Paulo</td>\n",
              "      <td>54</td>\n",
              "      <td>1</td>\n",
              "      <td>0</td>\n",
              "      <td>1</td>\n",
              "    </tr>\n",
              "    <tr>\n",
              "      <th>4</th>\n",
              "      <td>São Paulo</td>\n",
              "      <td>84</td>\n",
              "      <td>1</td>\n",
              "      <td>0</td>\n",
              "      <td>1</td>\n",
              "    </tr>\n",
              "  </tbody>\n",
              "</table>\n",
              "</div>\n",
              "      <button class=\"colab-df-convert\" onclick=\"convertToInteractive('df-15a82bd1-6273-43ff-a601-527de1fc385c')\"\n",
              "              title=\"Convert this dataframe to an interactive table.\"\n",
              "              style=\"display:none;\">\n",
              "        \n",
              "  <svg xmlns=\"http://www.w3.org/2000/svg\" height=\"24px\"viewBox=\"0 0 24 24\"\n",
              "       width=\"24px\">\n",
              "    <path d=\"M0 0h24v24H0V0z\" fill=\"none\"/>\n",
              "    <path d=\"M18.56 5.44l.94 2.06.94-2.06 2.06-.94-2.06-.94-.94-2.06-.94 2.06-2.06.94zm-11 1L8.5 8.5l.94-2.06 2.06-.94-2.06-.94L8.5 2.5l-.94 2.06-2.06.94zm10 10l.94 2.06.94-2.06 2.06-.94-2.06-.94-.94-2.06-.94 2.06-2.06.94z\"/><path d=\"M17.41 7.96l-1.37-1.37c-.4-.4-.92-.59-1.43-.59-.52 0-1.04.2-1.43.59L10.3 9.45l-7.72 7.72c-.78.78-.78 2.05 0 2.83L4 21.41c.39.39.9.59 1.41.59.51 0 1.02-.2 1.41-.59l7.78-7.78 2.81-2.81c.8-.78.8-2.07 0-2.86zM5.41 20L4 18.59l7.72-7.72 1.47 1.35L5.41 20z\"/>\n",
              "  </svg>\n",
              "      </button>\n",
              "      \n",
              "  <style>\n",
              "    .colab-df-container {\n",
              "      display:flex;\n",
              "      flex-wrap:wrap;\n",
              "      gap: 12px;\n",
              "    }\n",
              "\n",
              "    .colab-df-convert {\n",
              "      background-color: #E8F0FE;\n",
              "      border: none;\n",
              "      border-radius: 50%;\n",
              "      cursor: pointer;\n",
              "      display: none;\n",
              "      fill: #1967D2;\n",
              "      height: 32px;\n",
              "      padding: 0 0 0 0;\n",
              "      width: 32px;\n",
              "    }\n",
              "\n",
              "    .colab-df-convert:hover {\n",
              "      background-color: #E2EBFA;\n",
              "      box-shadow: 0px 1px 2px rgba(60, 64, 67, 0.3), 0px 1px 3px 1px rgba(60, 64, 67, 0.15);\n",
              "      fill: #174EA6;\n",
              "    }\n",
              "\n",
              "    [theme=dark] .colab-df-convert {\n",
              "      background-color: #3B4455;\n",
              "      fill: #D2E3FC;\n",
              "    }\n",
              "\n",
              "    [theme=dark] .colab-df-convert:hover {\n",
              "      background-color: #434B5C;\n",
              "      box-shadow: 0px 1px 3px 1px rgba(0, 0, 0, 0.15);\n",
              "      filter: drop-shadow(0px 1px 2px rgba(0, 0, 0, 0.3));\n",
              "      fill: #FFFFFF;\n",
              "    }\n",
              "  </style>\n",
              "\n",
              "      <script>\n",
              "        const buttonEl =\n",
              "          document.querySelector('#df-15a82bd1-6273-43ff-a601-527de1fc385c button.colab-df-convert');\n",
              "        buttonEl.style.display =\n",
              "          google.colab.kernel.accessAllowed ? 'block' : 'none';\n",
              "\n",
              "        async function convertToInteractive(key) {\n",
              "          const element = document.querySelector('#df-15a82bd1-6273-43ff-a601-527de1fc385c');\n",
              "          const dataTable =\n",
              "            await google.colab.kernel.invokeFunction('convertToInteractive',\n",
              "                                                     [key], {});\n",
              "          if (!dataTable) return;\n",
              "\n",
              "          const docLinkHtml = 'Like what you see? Visit the ' +\n",
              "            '<a target=\"_blank\" href=https://colab.research.google.com/notebooks/data_table.ipynb>data table notebook</a>'\n",
              "            + ' to learn more about interactive tables.';\n",
              "          element.innerHTML = '';\n",
              "          dataTable['output_type'] = 'display_data';\n",
              "          await google.colab.output.renderOutput(dataTable, element);\n",
              "          const docLink = document.createElement('div');\n",
              "          docLink.innerHTML = docLinkHtml;\n",
              "          element.appendChild(docLink);\n",
              "        }\n",
              "      </script>\n",
              "    </div>\n",
              "  </div>\n",
              "  "
            ]
          },
          "metadata": {},
          "execution_count": 306
        }
      ]
    },
    {
      "cell_type": "code",
      "source": [
        "# Definição do que é X e o que é Y:\n",
        "\n",
        "x = dados[[\"sexo\", \"idade\"]]\n",
        "y = dados[\"obito\"]\n",
        "\n",
        "print(x)\n",
        "print(y)"
      ],
      "metadata": {
        "colab": {
          "base_uri": "https://localhost:8080/"
        },
        "id": "L-K6F5DNIX4l",
        "outputId": "4e3d6c32-469e-4413-edfc-c68af38c59a3"
      },
      "execution_count": 307,
      "outputs": [
        {
          "output_type": "stream",
          "name": "stdout",
          "text": [
            "      sexo  idade\n",
            "0        1     79\n",
            "1        1     65\n",
            "2        1     39\n",
            "3        1     54\n",
            "4        1     84\n",
            "...    ...    ...\n",
            "3368     1     39\n",
            "3369     1     67\n",
            "3370     1     80\n",
            "3371     1     84\n",
            "3372     1     74\n",
            "\n",
            "[3373 rows x 2 columns]\n",
            "0       1\n",
            "1       0\n",
            "2       0\n",
            "3       0\n",
            "4       0\n",
            "       ..\n",
            "3368    0\n",
            "3369    0\n",
            "3370    0\n",
            "3371    1\n",
            "3372    0\n",
            "Name: obito, Length: 3373, dtype: int64\n"
          ]
        }
      ]
    },
    {
      "cell_type": "markdown",
      "source": [
        "# Treinamento "
      ],
      "metadata": {
        "id": "xK5jOHV_vtxp"
      }
    },
    {
      "cell_type": "code",
      "source": [
        "#Identificando o tamanho da base:\n",
        "#(linhas, colunas)\n",
        "dados.shape"
      ],
      "metadata": {
        "colab": {
          "base_uri": "https://localhost:8080/"
        },
        "id": "ymBM-FSSKD07",
        "outputId": "2f9772da-5c4b-4db6-bd7e-53371e537b5b"
      },
      "execution_count": 308,
      "outputs": [
        {
          "output_type": "execute_result",
          "data": {
            "text/plain": [
              "(3373, 5)"
            ]
          },
          "metadata": {},
          "execution_count": 308
        }
      ]
    },
    {
      "cell_type": "markdown",
      "source": [
        "Gerando base de treinamento e teste"
      ],
      "metadata": {
        "id": "UHix0OJqyJwz"
      }
    },
    {
      "cell_type": "code",
      "source": [
        "treino_x = x[:70]\n",
        "treino_y = y[:70]\n",
        "\n",
        "teste_x = x[70:]\n",
        "teste_y = y[70:]\n",
        "\n",
        "print (f\"Treino: {len(treino_x)} e Teste: {len(teste_x)}\")"
      ],
      "metadata": {
        "colab": {
          "base_uri": "https://localhost:8080/"
        },
        "id": "K1nswY0GKItL",
        "outputId": "a8eb24b9-dacf-4bdf-cf7c-52ed36a71855"
      },
      "execution_count": 309,
      "outputs": [
        {
          "output_type": "stream",
          "name": "stdout",
          "text": [
            "Treino: 70 e Teste: 3303\n"
          ]
        }
      ]
    },
    {
      "cell_type": "markdown",
      "source": [
        "Treinamento do modelo:"
      ],
      "metadata": {
        "id": "m2v7wWLryT4D"
      }
    },
    {
      "cell_type": "markdown",
      "source": [
        "Ensinando o algoritmo para se adaptar com os dados e classificar (aprendizado supervisionado). Para isso vamos usar o fit:"
      ],
      "metadata": {
        "id": "DFOFptlYy_h4"
      }
    },
    {
      "cell_type": "code",
      "source": [
        "from sklearn.svm import LinearSVC         # Importa o modelo\n",
        "\n",
        "modelo = LinearSVC()                      # Cria o modelo\n",
        "modelo.fit(treino_x, treino_y)            # Treina o modelo criado"
      ],
      "metadata": {
        "colab": {
          "base_uri": "https://localhost:8080/"
        },
        "id": "ZarjqSMAIVIb",
        "outputId": "31b3f1e8-d74d-4660-fecc-02517a8f8606"
      },
      "execution_count": 310,
      "outputs": [
        {
          "output_type": "stream",
          "name": "stderr",
          "text": [
            "/usr/local/lib/python3.7/dist-packages/sklearn/svm/_base.py:1208: ConvergenceWarning: Liblinear failed to converge, increase the number of iterations.\n",
            "  ConvergenceWarning,\n"
          ]
        },
        {
          "output_type": "execute_result",
          "data": {
            "text/plain": [
              "LinearSVC()"
            ]
          },
          "metadata": {},
          "execution_count": 310
        }
      ]
    },
    {
      "cell_type": "markdown",
      "source": [
        "# Teste"
      ],
      "metadata": {
        "id": "bPS1OA4JzT4G"
      }
    },
    {
      "cell_type": "markdown",
      "source": [
        "Questionando o algoritmo e modelo utilizado para classificar (predizer) quais animais são:"
      ],
      "metadata": {
        "id": "9LntFFOi0WQ5"
      }
    },
    {
      "cell_type": "code",
      "source": [
        "previsoes = modelo.predict(teste_x)\n",
        "previsoes"
      ],
      "metadata": {
        "colab": {
          "base_uri": "https://localhost:8080/"
        },
        "id": "3Ug9YKoCL5fc",
        "outputId": "01075cf9-5f1d-4356-af63-85755d993275"
      },
      "execution_count": 311,
      "outputs": [
        {
          "output_type": "execute_result",
          "data": {
            "text/plain": [
              "array([0, 0, 0, ..., 0, 0, 0])"
            ]
          },
          "metadata": {},
          "execution_count": 311
        }
      ]
    },
    {
      "cell_type": "markdown",
      "source": [
        "Comparando a previsão obtida pelo algoritmo e o testesClasses (a fim de verificar quanto de acerto o algoritmo teve):"
      ],
      "metadata": {
        "id": "WkhlSywO0iF-"
      }
    },
    {
      "cell_type": "code",
      "source": [
        "previsoes == teste_y"
      ],
      "metadata": {
        "colab": {
          "base_uri": "https://localhost:8080/"
        },
        "id": "b_URNq_sT6La",
        "outputId": "76ae902f-7318-4191-bdf3-e6132f106db5"
      },
      "execution_count": 312,
      "outputs": [
        {
          "output_type": "execute_result",
          "data": {
            "text/plain": [
              "70       True\n",
              "71       True\n",
              "72       True\n",
              "73       True\n",
              "74       True\n",
              "        ...  \n",
              "3368     True\n",
              "3369     True\n",
              "3370     True\n",
              "3371    False\n",
              "3372     True\n",
              "Name: obito, Length: 3303, dtype: bool"
            ]
          },
          "metadata": {},
          "execution_count": 312
        }
      ]
    },
    {
      "cell_type": "markdown",
      "source": [
        "# Acurácia"
      ],
      "metadata": {
        "id": "G577OWsSzbcO"
      }
    },
    {
      "cell_type": "markdown",
      "source": [
        "Apresentando o resultado de acertos e erros da predição de forma automatica:"
      ],
      "metadata": {
        "id": "XaHIy7X-0sjm"
      }
    },
    {
      "cell_type": "code",
      "source": [
        "# Imputando a soma de acertos corretos numa variavel:\n",
        "corretos = (previsoes == teste_y).sum()                         # Faz a soma de todos itens corretos da comparação previsoes == testesClasses e guarda na variavel corretos;\n",
        "total = len(teste_y)                                            # Faz a soma de todos itens testados (a função len soma quantidade de itens), no caso animaisTestes;\n",
        "taxaAcerto = corretos/total                                     # Calcula a taxa (relação) entre itens corretos e total\n",
        "print (f\"Taxa de acerto: {taxaAcerto * 100}\")                   # Apresenta (imprime) a taxa de Acertos em porcentagem (por isso a multiplicação por 100)"
      ],
      "metadata": {
        "colab": {
          "base_uri": "https://localhost:8080/"
        },
        "id": "VFlzYsgGT_u3",
        "outputId": "7918a091-2524-4c94-93a8-f427a9bd121e"
      },
      "execution_count": 313,
      "outputs": [
        {
          "output_type": "stream",
          "name": "stdout",
          "text": [
            "Taxa de acerto: 75.3254617014835\n"
          ]
        }
      ]
    },
    {
      "cell_type": "markdown",
      "source": [
        "Importando a biblioteca sklearn.metrics e o modulo accuracy_score"
      ],
      "metadata": {
        "id": "iN7LQLz9039Y"
      }
    },
    {
      "cell_type": "code",
      "source": [
        "from sklearn.metrics import accuracy_score"
      ],
      "metadata": {
        "id": "LnthPg2WUEwp"
      },
      "execution_count": 314,
      "outputs": []
    },
    {
      "cell_type": "markdown",
      "source": [
        "Chame o accuracy_score, utilizando a seguinte sintaxe:\n",
        "\n",
        "VARIAVEL = accuracy_score(TESTE_VERDADEIRO, PREDIÇÃO"
      ],
      "metadata": {
        "id": "VCEKMCvy06H2"
      }
    },
    {
      "cell_type": "code",
      "source": [
        "acerto = accuracy_score(teste_y, previsoes)\n",
        "print(acerto)"
      ],
      "metadata": {
        "colab": {
          "base_uri": "https://localhost:8080/"
        },
        "id": "4ICS0WAeUGxi",
        "outputId": "a0f10946-ec40-4b54-fff5-61049a0abce2"
      },
      "execution_count": 315,
      "outputs": [
        {
          "output_type": "stream",
          "name": "stdout",
          "text": [
            "0.753254617014835\n"
          ]
        }
      ]
    },
    {
      "cell_type": "markdown",
      "source": [
        "# Modelo Linear USANDO MODELO SKLEARN SPLIT"
      ],
      "metadata": {
        "id": "fDzUemvn1HoN"
      }
    },
    {
      "cell_type": "markdown",
      "source": [
        "# Predição e Acurácia"
      ],
      "metadata": {
        "id": "N2e7JBuE1Oxd"
      }
    },
    {
      "cell_type": "markdown",
      "source": [
        "Para usar o modelo sklearn com split para dividir a base entre teste e treino:\n",
        "\n",
        "Executa a predição (previsão) e teste a acuracia do modelo"
      ],
      "metadata": {
        "id": "VReLV-hO1VYf"
      }
    },
    {
      "cell_type": "code",
      "source": [
        "previsoes = modelo.predict(teste_x)\n",
        "\n",
        "from sklearn.metrics import accuracy_score\n",
        "\n",
        "acuracia = accuracy_score(teste_y, previsoes)\n",
        "\n",
        "print(f\"A acuracia: {acuracia*100:.2f}%\")"
      ],
      "metadata": {
        "colab": {
          "base_uri": "https://localhost:8080/"
        },
        "id": "Yss0yEmSULvK",
        "outputId": "fa1ca442-daeb-451c-cb56-1669663e0ade"
      },
      "execution_count": 316,
      "outputs": [
        {
          "output_type": "stream",
          "name": "stdout",
          "text": [
            "A acuracia: 75.33%\n"
          ]
        }
      ]
    },
    {
      "cell_type": "code",
      "source": [
        "from sklearn.model_selection import train_test_split\n",
        "\n",
        "treino_x, teste_x, treino_y, teste_y = train_test_split(x, y, test_size = 0.25)\n",
        "\n",
        "print(f\"Treino: {len(treino_x)} - Teste: {len(teste_x)}\")"
      ],
      "metadata": {
        "colab": {
          "base_uri": "https://localhost:8080/"
        },
        "id": "NUDyovWgUPkA",
        "outputId": "27d5aad9-fb4c-490b-cc91-f29a6c81a2aa"
      },
      "execution_count": 317,
      "outputs": [
        {
          "output_type": "stream",
          "name": "stdout",
          "text": [
            "Treino: 2529 - Teste: 844\n"
          ]
        }
      ]
    },
    {
      "cell_type": "code",
      "source": [
        "from sklearn.model_selection import train_test_split\n",
        "\n",
        "treino_x, teste_x, treino_y, teste_y = train_test_split(x, y, test_size = 0.50)\n",
        "\n",
        "print(f\"Treino: {len(treino_x)} - Teste: {len(teste_x)}\")"
      ],
      "metadata": {
        "colab": {
          "base_uri": "https://localhost:8080/"
        },
        "id": "HIL-fSomUTIY",
        "outputId": "797f2512-d878-4d39-bb22-2f921d582093"
      },
      "execution_count": 318,
      "outputs": [
        {
          "output_type": "stream",
          "name": "stdout",
          "text": [
            "Treino: 1686 - Teste: 1687\n"
          ]
        }
      ]
    },
    {
      "cell_type": "code",
      "source": [
        "from sklearn.model_selection import train_test_split\n",
        "\n",
        "SEED = 20\n",
        "\n",
        "treino_x, teste_x, treino_y, teste_y = train_test_split(x, y, random_state = SEED, test_size = 0.30)\n",
        "\n",
        "print(f\"Treino: {len(treino_x)} - Teste: {len(teste_x)}\")"
      ],
      "metadata": {
        "colab": {
          "base_uri": "https://localhost:8080/"
        },
        "id": "gx87UmpfUVuo",
        "outputId": "9f62326c-85df-477d-8046-31738c6c8e35"
      },
      "execution_count": 319,
      "outputs": [
        {
          "output_type": "stream",
          "name": "stdout",
          "text": [
            "Treino: 2361 - Teste: 1012\n"
          ]
        }
      ]
    },
    {
      "cell_type": "markdown",
      "source": [
        "Refazendo a predição, teste e acuracia:"
      ],
      "metadata": {
        "id": "TH6vW6KB1fut"
      }
    },
    {
      "cell_type": "code",
      "source": [
        "from sklearn.svm import LinearSVC             \n",
        "from sklearn.metrics import accuracy_score\n",
        "\n",
        "modelo = LinearSVC()                      # Cria o modelo\n",
        "modelo.fit(treino_x, treino_y)            # Treina o modelo criado\n",
        "\n",
        "previsoes = modelo.predict(teste_x)\n",
        "acuracia = accuracy_score(teste_y, previsoes)\n",
        "\n",
        "print(f\"A acuracia: {acuracia*100:.2f}%\")"
      ],
      "metadata": {
        "colab": {
          "base_uri": "https://localhost:8080/"
        },
        "id": "Q2RF2B1XUYwk",
        "outputId": "74c5fb4a-c351-49ef-ba62-3d8f8c394d3d"
      },
      "execution_count": 320,
      "outputs": [
        {
          "output_type": "stream",
          "name": "stdout",
          "text": [
            "A acuracia: 74.41%\n"
          ]
        },
        {
          "output_type": "stream",
          "name": "stderr",
          "text": [
            "/usr/local/lib/python3.7/dist-packages/sklearn/svm/_base.py:1208: ConvergenceWarning: Liblinear failed to converge, increase the number of iterations.\n",
            "  ConvergenceWarning,\n"
          ]
        }
      ]
    },
    {
      "cell_type": "markdown",
      "source": [
        "Sabendo quantos 0 e 1 temos:"
      ],
      "metadata": {
        "id": "UVlurj1O1lDO"
      }
    },
    {
      "cell_type": "code",
      "source": [
        "treino_y.value_counts()"
      ],
      "metadata": {
        "colab": {
          "base_uri": "https://localhost:8080/"
        },
        "id": "WMoLMPjmUcEA",
        "outputId": "7740e1fa-b2c0-42b3-e565-2f6b70f6d724"
      },
      "execution_count": 321,
      "outputs": [
        {
          "output_type": "execute_result",
          "data": {
            "text/plain": [
              "0    1787\n",
              "1     574\n",
              "Name: obito, dtype: int64"
            ]
          },
          "metadata": {},
          "execution_count": 321
        }
      ]
    },
    {
      "cell_type": "code",
      "source": [
        "teste_y.value_counts()"
      ],
      "metadata": {
        "colab": {
          "base_uri": "https://localhost:8080/"
        },
        "id": "xaWD_ZouUgq9",
        "outputId": "bfd49140-35f8-462a-c495-cd8587074de7"
      },
      "execution_count": 322,
      "outputs": [
        {
          "output_type": "execute_result",
          "data": {
            "text/plain": [
              "0    753\n",
              "1    259\n",
              "Name: obito, dtype: int64"
            ]
          },
          "metadata": {},
          "execution_count": 322
        }
      ]
    },
    {
      "cell_type": "markdown",
      "source": [
        "Criando uma nova base com proporcionalidade (estratificação):"
      ],
      "metadata": {
        "id": "PO5LdIsT1pmF"
      }
    },
    {
      "cell_type": "code",
      "source": [
        "from sklearn.model_selection import train_test_split\n",
        "SEED = 20\n",
        "treino_x, teste_x, treino_y, teste_y = train_test_split(x, y, \n",
        "                                                        random_state = SEED, test_size = 0.30,\n",
        "                                                        stratify = y)\n",
        "\n",
        "print(f\"Treino: {len(treino_x)} - Teste: {len(teste_x)}\")\n",
        "\n",
        "from sklearn.svm import LinearSVC             \n",
        "from sklearn.metrics import accuracy_score\n",
        "\n",
        "modelo = LinearSVC()                      # Cria o modelo\n",
        "modelo.fit(treino_x, treino_y)            # Treina o modelo criado\n",
        "\n",
        "previsoes = modelo.predict(teste_x)\n",
        "acuracia = accuracy_score(teste_y, previsoes)\n",
        "\n",
        "print(f\"A acuracia: {acuracia*100:.2f}%\")\n",
        "\n",
        "print (treino_y.value_counts())\n",
        "print (teste_y.value_counts())"
      ],
      "metadata": {
        "colab": {
          "base_uri": "https://localhost:8080/"
        },
        "id": "8u5_fYdeUle9",
        "outputId": "3db0d6d8-2178-48e1-fb3f-3898b484182b"
      },
      "execution_count": 323,
      "outputs": [
        {
          "output_type": "stream",
          "name": "stdout",
          "text": [
            "Treino: 2361 - Teste: 1012\n",
            "A acuracia: 75.30%\n",
            "0    1778\n",
            "1     583\n",
            "Name: obito, dtype: int64\n",
            "0    762\n",
            "1    250\n",
            "Name: obito, dtype: int64\n"
          ]
        },
        {
          "output_type": "stream",
          "name": "stderr",
          "text": [
            "/usr/local/lib/python3.7/dist-packages/sklearn/svm/_base.py:1208: ConvergenceWarning: Liblinear failed to converge, increase the number of iterations.\n",
            "  ConvergenceWarning,\n"
          ]
        }
      ]
    },
    {
      "cell_type": "code",
      "source": [
        "from sklearn.metrics import accuracy_score\n",
        "\n",
        "acuracia = accuracy_score(teste_y, previsoes)*100\n",
        "print(f\"Acurácia: {acuracia:.2f} %\")"
      ],
      "metadata": {
        "colab": {
          "base_uri": "https://localhost:8080/"
        },
        "id": "LsGxSbUZUvy-",
        "outputId": "d92da63d-ee80-4944-d9a2-5f8e2da851c6"
      },
      "execution_count": 324,
      "outputs": [
        {
          "output_type": "stream",
          "name": "stdout",
          "text": [
            "Acurácia: 75.30 %\n"
          ]
        }
      ]
    },
    {
      "cell_type": "markdown",
      "source": [
        "# ANALISE - PREVISÕES DE BASE"
      ],
      "metadata": {
        "id": "I9C1Tadb2Mpk"
      }
    },
    {
      "cell_type": "markdown",
      "source": [
        "Criando as bases de dados (modelagem):"
      ],
      "metadata": {
        "id": "0oNFy1Bq5GJe"
      }
    },
    {
      "cell_type": "code",
      "source": [
        "# Define quais são so dados de X e Y:\n",
        "x = dados[[\"sexo\", \"idade\"]]\n",
        "y = dados[\"obito\"]\n",
        "\n",
        "# Cria as bases de Treino e Teste\n",
        "from sklearn.model_selection import train_test_split\n",
        "\n",
        "SEED = 5\n",
        "\n",
        "treino_x, teste_x, treino_y, teste_y = train_test_split(x, y, \n",
        "                  random_state = SEED, test_size = 0.30, stratify = y)\n",
        "print(f\"Treino: {len(treino_x)} - Teste: {len(teste_x)}\")"
      ],
      "metadata": {
        "colab": {
          "base_uri": "https://localhost:8080/"
        },
        "id": "ONUWg2ZW5FCw",
        "outputId": "58753e6e-980d-4244-fddb-3fdb862fe617"
      },
      "execution_count": 325,
      "outputs": [
        {
          "output_type": "stream",
          "name": "stdout",
          "text": [
            "Treino: 2361 - Teste: 1012\n"
          ]
        }
      ]
    },
    {
      "cell_type": "markdown",
      "source": [
        "Criando uma base com tudo 1 (tudo finalizado) para reparar a diferença de acurácia:"
      ],
      "metadata": {
        "id": "iq9M8NAu2TRd"
      }
    },
    {
      "cell_type": "code",
      "source": [
        "# Importação da biblioteca NumPy\n",
        "import numpy as np\n",
        "\n",
        "# Criando uma matriz de previsão com tudo 1 nos 1012 testes\n",
        "previsoes_base = np.ones(1012)\n",
        "\n",
        "# Testando a acurácia com esse modelo\n",
        "acuracia = accuracy_score(teste_y, previsoes_base)*100\n",
        "print(f\"Acurácia: {acuracia:.2f} %\")"
      ],
      "metadata": {
        "colab": {
          "base_uri": "https://localhost:8080/"
        },
        "id": "MQ98wFem2W_t",
        "outputId": "7ef00bf4-32ed-4344-f89c-abcbe910552f"
      },
      "execution_count": 326,
      "outputs": [
        {
          "output_type": "stream",
          "name": "stdout",
          "text": [
            "Acurácia: 24.70 %\n"
          ]
        }
      ]
    },
    {
      "cell_type": "markdown",
      "source": [
        "# ANALISE - PREVISÕES INDIVIDUAIS"
      ],
      "metadata": {
        "id": "mop9Vrn32mTd"
      }
    },
    {
      "cell_type": "markdown",
      "source": [
        "Importando o seaborn com o modulo sns e plotando a dispersão:"
      ],
      "metadata": {
        "id": "V-hYtoP12y6t"
      }
    },
    {
      "cell_type": "code",
      "source": [
        "# Importando seaborn e o modelo sns\n",
        "import seaborn as sns\n",
        "\n",
        "# Plotando o grafico de dispersão:\n",
        "sns.scatterplot(x=\"idade\", y=\"obito\", data=dados)"
      ],
      "metadata": {
        "colab": {
          "base_uri": "https://localhost:8080/",
          "height": 296
        },
        "id": "zOyallLI27sm",
        "outputId": "09027cfc-8014-4898-ca9f-93053525de58"
      },
      "execution_count": 327,
      "outputs": [
        {
          "output_type": "execute_result",
          "data": {
            "text/plain": [
              "<matplotlib.axes._subplots.AxesSubplot at 0x7fc82fedd790>"
            ]
          },
          "metadata": {},
          "execution_count": 327
        },
        {
          "output_type": "display_data",
          "data": {
            "text/plain": [
              "<Figure size 432x288 with 1 Axes>"
            ],
            "image/png": "[encoded data removed]"
          },
          "metadata": {
            "needs_background": "light"
          }
        }
      ]
    },
    {
      "cell_type": "markdown",
      "source": [
        "Plotando o mesmo grafico, porem com tonalidade (cor) diferente para o \"finalizado\":"
      ],
      "metadata": {
        "id": "oxDqJ6bq3DCu"
      }
    },
    {
      "cell_type": "code",
      "source": [
        "# Plotando o grafico de dispersão com tonalidade diferente:\n",
        "sns.scatterplot(x=\"idade\", y=\"obito\", hue=\"sexo\", data=dados)"
      ],
      "metadata": {
        "colab": {
          "base_uri": "https://localhost:8080/",
          "height": 296
        },
        "id": "wN5FD3IP3EP2",
        "outputId": "7f136301-437e-4c62-c355-9cd79d7add48"
      },
      "execution_count": 328,
      "outputs": [
        {
          "output_type": "execute_result",
          "data": {
            "text/plain": [
              "<matplotlib.axes._subplots.AxesSubplot at 0x7fc82fe31d50>"
            ]
          },
          "metadata": {},
          "execution_count": 328
        },
        {
          "output_type": "display_data",
          "data": {
            "text/plain": [
              "<Figure size 432x288 with 1 Axes>"
            ],
            "image/png": "[encoded data removed]"
          },
          "metadata": {
            "needs_background": "light"
          }
        }
      ]
    },
    {
      "cell_type": "markdown",
      "source": [
        "Plotando grafico relativo, em relação a coluna de \"diabetes\":"
      ],
      "metadata": {
        "id": "d9Pg28GL3JFP"
      }
    },
    {
      "cell_type": "code",
      "source": [
        "# Plotando o grafico relativo em relação (coluna) do diabetes:\n",
        "sns.relplot(x=\"idade\", y=\"obito\", col=\"diabetes\", data=dados)"
      ],
      "metadata": {
        "colab": {
          "base_uri": "https://localhost:8080/",
          "height": 386
        },
        "id": "BUSH4TJY3KTw",
        "outputId": "97e876a1-5593-4cbc-97be-90f4213d3d2b"
      },
      "execution_count": 329,
      "outputs": [
        {
          "output_type": "execute_result",
          "data": {
            "text/plain": [
              "<seaborn.axisgrid.FacetGrid at 0x7fc82fe875d0>"
            ]
          },
          "metadata": {},
          "execution_count": 329
        },
        {
          "output_type": "display_data",
          "data": {
            "text/plain": [
              "<Figure size 720x360 with 2 Axes>"
            ],
            "image/png": "[encoded data removed]"
          },
          "metadata": {
            "needs_background": "light"
          }
        }
      ]
    },
    {
      "cell_type": "markdown",
      "source": [
        "Plotando grafico relativo, em relação a coluna de \"finalizados\" com diferenciação de cores:"
      ],
      "metadata": {
        "id": "Jb5_6Nd93Pw9"
      }
    },
    {
      "cell_type": "code",
      "source": [
        "# Plotando o grafico relativo em relação (coluna) do diabetes, diferenciando com cores:\n",
        "sns.relplot(x=\"idade\", y=\"obito\", hue=\"diabetes\", col=\"diabetes\", data=dados)"
      ],
      "metadata": {
        "colab": {
          "base_uri": "https://localhost:8080/",
          "height": 386
        },
        "id": "LZKuK-oD3R4X",
        "outputId": "acf9b964-ae0e-4e61-fbda-7901499a16e1"
      },
      "execution_count": 330,
      "outputs": [
        {
          "output_type": "execute_result",
          "data": {
            "text/plain": [
              "<seaborn.axisgrid.FacetGrid at 0x7fc82fcf6750>"
            ]
          },
          "metadata": {},
          "execution_count": 330
        },
        {
          "output_type": "display_data",
          "data": {
            "text/plain": [
              "<Figure size 771x360 with 2 Axes>"
            ],
            "image/png": "[encoded data removed]"
          },
          "metadata": {
            "needs_background": "light"
          }
        }
      ]
    },
    {
      "cell_type": "markdown",
      "source": [
        "Analise grafica scatter dos dados teste_x em relação a teste_Y"
      ],
      "metadata": {
        "id": "YgVUHy6r2rDV"
      }
    },
    {
      "cell_type": "code",
      "source": [
        "sns.scatterplot(x=\"idade\", y=\"sexo\", hue=teste_y, data=teste_x)"
      ],
      "metadata": {
        "colab": {
          "base_uri": "https://localhost:8080/",
          "height": 296
        },
        "id": "XFxt8v4n3aQP",
        "outputId": "1cc73c8a-c94d-4297-e999-6dad736a96c7"
      },
      "execution_count": 331,
      "outputs": [
        {
          "output_type": "execute_result",
          "data": {
            "text/plain": [
              "<matplotlib.axes._subplots.AxesSubplot at 0x7fc82fc59d50>"
            ]
          },
          "metadata": {},
          "execution_count": 331
        },
        {
          "output_type": "display_data",
          "data": {
            "text/plain": [
              "<Figure size 432x288 with 1 Axes>"
            ],
            "image/png": "[encoded data removed]"
          },
          "metadata": {
            "needs_background": "light"
          }
        }
      ]
    },
    {
      "cell_type": "markdown",
      "source": [
        "Determinando X e Y min e max para os dados de treino:"
      ],
      "metadata": {
        "id": "8ILP7A-X3eml"
      }
    },
    {
      "cell_type": "code",
      "source": [
        "x_min = teste_x.sexo.min()\n",
        "x_max = teste_x.sexo.max()\n",
        "y_min = teste_x.idade.min()\n",
        "y_max = teste_x.idade.max()\n",
        "\n",
        "print (x_min, x_max)\n",
        "print (y_min, y_max)"
      ],
      "metadata": {
        "colab": {
          "base_uri": "https://localhost:8080/"
        },
        "id": "-3u_XW_H3fct",
        "outputId": "3436c508-735d-474c-f486-dda09d710ee2"
      },
      "execution_count": 332,
      "outputs": [
        {
          "output_type": "stream",
          "name": "stdout",
          "text": [
            "0 1\n",
            "6 98\n"
          ]
        }
      ]
    },
    {
      "cell_type": "markdown",
      "source": [
        "Visualização da curva de decisão:"
      ],
      "metadata": {
        "id": "WEunY0WE3kLF"
      }
    },
    {
      "cell_type": "code",
      "source": [
        "# Define a resolução de pixel (pontos a serem analisados entre os min e max):\n",
        "pixels = 100\n",
        "\n",
        "# Calcula um range entre os valores xmin e xmax e ymin e ymax para ser analisado:\n",
        "eixo_x = np.arange(x_min, x_max, (x_max - x_min)/pixels)\n",
        "eixo_y = np.arange(y_min, y_max, (y_max - y_min)/pixels)\n",
        "\n",
        "# Juntando os pontos X e Y para obter um grid:\n",
        "xx, yy = np.meshgrid(eixo_x, eixo_y)\n",
        "pontos = np.c_[xx.ravel(), yy.ravel()]\n",
        "pontos"
      ],
      "metadata": {
        "colab": {
          "base_uri": "https://localhost:8080/"
        },
        "id": "De9AfDau3k0h",
        "outputId": "834c4d57-7eb8-4b9e-8b28-ee9bf3e8b931"
      },
      "execution_count": 333,
      "outputs": [
        {
          "output_type": "execute_result",
          "data": {
            "text/plain": [
              "array([[0.000e+00, 6.000e+00],\n",
              "       [1.000e-02, 6.000e+00],\n",
              "       [2.000e-02, 6.000e+00],\n",
              "       ...,\n",
              "       [9.700e-01, 9.708e+01],\n",
              "       [9.800e-01, 9.708e+01],\n",
              "       [9.900e-01, 9.708e+01]])"
            ]
          },
          "metadata": {},
          "execution_count": 333
        }
      ]
    },
    {
      "cell_type": "markdown",
      "source": [
        "Refazendo a predição com os pontos:"
      ],
      "metadata": {
        "id": "d88aTn223n8G"
      }
    },
    {
      "cell_type": "code",
      "source": [
        "# Fazendo a predição dos pontos:\n",
        "Z = modelo.predict(pontos)\n",
        "\n",
        "# Redimencionar os pontos 100 x 100:\n",
        "Z = Z.reshape(xx.shape)"
      ],
      "metadata": {
        "colab": {
          "base_uri": "https://localhost:8080/"
        },
        "id": "_GX-DaTD3osP",
        "outputId": "b2462458-fc45-42ab-e1a9-48bef672de28"
      },
      "execution_count": 334,
      "outputs": [
        {
          "output_type": "stream",
          "name": "stderr",
          "text": [
            "/usr/local/lib/python3.7/dist-packages/sklearn/base.py:451: UserWarning: X does not have valid feature names, but LinearSVC was fitted with feature names\n",
            "  \"X does not have valid feature names, but\"\n"
          ]
        }
      ]
    },
    {
      "cell_type": "markdown",
      "source": [
        "Plotando a curva de decisão:"
      ],
      "metadata": {
        "id": "Rk3gXUCH3su9"
      }
    },
    {
      "cell_type": "code",
      "source": [
        "# Importar a biblioteca matplot e modulo plt:\n",
        "import matplotlib.pyplot as plt\n",
        "\n",
        "# Plotagem Scatter:\n",
        "plt.contourf(xx, yy, Z, alpha=0.3)\n",
        "plt.scatter(teste_x.idade, teste_x.sexo, c=teste_y, s=1)"
      ],
      "metadata": {
        "colab": {
          "base_uri": "https://localhost:8080/",
          "height": 282
        },
        "id": "RymFCMeO3tXV",
        "outputId": "1a4e7209-3038-4d72-be62-16d039727e25"
      },
      "execution_count": 335,
      "outputs": [
        {
          "output_type": "execute_result",
          "data": {
            "text/plain": [
              "<matplotlib.collections.PathCollection at 0x7fc82fba1c10>"
            ]
          },
          "metadata": {},
          "execution_count": 335
        },
        {
          "output_type": "display_data",
          "data": {
            "text/plain": [
              "<Figure size 432x288 with 1 Axes>"
            ],
            "image/png": "[encoded data removed]"
          },
          "metadata": {
            "needs_background": "light"
          }
        }
      ]
    },
    {
      "cell_type": "markdown",
      "source": [
        "# TREINAMENTO / TESTE / ACURACIA - LINEARSVC"
      ],
      "metadata": {
        "id": "dyLzrlvCDce8"
      }
    },
    {
      "cell_type": "markdown",
      "source": [
        "Importando as bibliotecas e modulos necessarios:"
      ],
      "metadata": {
        "id": "0Hdux8mBDhbo"
      }
    },
    {
      "cell_type": "code",
      "source": [
        "from sklearn.svm import LinearSVC\n",
        "from sklearn.metrics import accuracy_score"
      ],
      "metadata": {
        "id": "9STFrkJFDkZr"
      },
      "execution_count": 336,
      "outputs": []
    },
    {
      "cell_type": "markdown",
      "source": [
        "Treinando, Testando e Acuracia:"
      ],
      "metadata": {
        "id": "SBwBETaVDmlb"
      }
    },
    {
      "cell_type": "code",
      "source": [
        "# Treinando:\n",
        "modelo = LinearSVC()\n",
        "modelo.fit(treino_x, treino_y)\n",
        "\n",
        "# Testando:\n",
        "previsoes = modelo.predict(teste_x)\n",
        "\n",
        "# Acurácia:\n",
        "acuracia = accuracy_score(teste_y, previsoes)*100\n",
        "print(f\"Acuracia: {acuracia:.2f}\")"
      ],
      "metadata": {
        "colab": {
          "base_uri": "https://localhost:8080/"
        },
        "id": "SBx3vnA2Dotg",
        "outputId": "de65d835-016a-467c-8e17-1d9f34d57bd0"
      },
      "execution_count": 337,
      "outputs": [
        {
          "output_type": "stream",
          "name": "stdout",
          "text": [
            "Acuracia: 75.30\n"
          ]
        },
        {
          "output_type": "stream",
          "name": "stderr",
          "text": [
            "/usr/local/lib/python3.7/dist-packages/sklearn/svm/_base.py:1208: ConvergenceWarning: Liblinear failed to converge, increase the number of iterations.\n",
            "  ConvergenceWarning,\n"
          ]
        }
      ]
    },
    {
      "cell_type": "markdown",
      "source": [
        "# TREINAMENTO / TESTE / ACURACIA - DUMMYCLASSIFIER"
      ],
      "metadata": {
        "id": "gAglIk7zDt-K"
      }
    },
    {
      "cell_type": "markdown",
      "source": [
        "Importando as bibliotecas e modulos necessarios:"
      ],
      "metadata": {
        "id": "Ui12nIHtDxu0"
      }
    },
    {
      "cell_type": "code",
      "source": [
        "from sklearn.dummy import DummyClassifier"
      ],
      "metadata": {
        "id": "z08btz4JDzpZ"
      },
      "execution_count": 338,
      "outputs": []
    },
    {
      "cell_type": "markdown",
      "source": [
        "DUMMY STRATIFIED - Treinando, Testando e Acuracia:"
      ],
      "metadata": {
        "id": "8IBsSiUdD1QK"
      }
    },
    {
      "cell_type": "code",
      "source": [
        "# Treinando:\n",
        "dummy_stratified = DummyClassifier()\n",
        "dummy_stratified.fit(treino_x, treino_y)\n",
        "\n",
        "# Testando:\n",
        "previsoes2 = dummy_stratified.predict(teste_x)\n",
        "\n",
        "# Acurácia:\n",
        "acuracia2 = accuracy_score(teste_y, previsoes2)*100\n",
        "print(f\"Acuracia Dummy Stratified: {acuracia2:.2f}\")"
      ],
      "metadata": {
        "colab": {
          "base_uri": "https://localhost:8080/"
        },
        "id": "sb9EbG5ND5HB",
        "outputId": "ed1a3e1f-d52a-4f02-b012-4e78603d1286"
      },
      "execution_count": 339,
      "outputs": [
        {
          "output_type": "stream",
          "name": "stdout",
          "text": [
            "Acuracia Dummy Stratified: 75.30\n"
          ]
        }
      ]
    },
    {
      "cell_type": "markdown",
      "source": [
        "DUMMY MOSTFREQUENT - Treinando, Testando e Acuracia:"
      ],
      "metadata": {
        "id": "EwguBn4hD-Sp"
      }
    },
    {
      "cell_type": "code",
      "source": [
        "# Treinando:\n",
        "dummy_mostfrequent = DummyClassifier()\n",
        "dummy_mostfrequent.fit(treino_x, treino_y)\n",
        "\n",
        "# Testando:\n",
        "previsoes3 = dummy_mostfrequent.predict(teste_x)\n",
        "\n",
        "# Acurácia:\n",
        "acuracia3 = accuracy_score(teste_y, previsoes3)*100\n",
        "print(f\"Acuracia Dummy Mostfrequent: {acuracia3:.2f}\")"
      ],
      "metadata": {
        "colab": {
          "base_uri": "https://localhost:8080/"
        },
        "id": "lhEZFnRdD_RJ",
        "outputId": "63ee8b01-bb8a-4a86-ccd5-89a618289ace"
      },
      "execution_count": 340,
      "outputs": [
        {
          "output_type": "stream",
          "name": "stdout",
          "text": [
            "Acuracia Dummy Mostfrequent: 75.30\n"
          ]
        }
      ]
    },
    {
      "cell_type": "markdown",
      "source": [
        "#Base de dados 2"
      ],
      "metadata": {
        "id": "oENu1EOjEIpY"
      }
    },
    {
      "cell_type": "markdown",
      "source": [
        "Importando as bibliotecas e modulos necessarios:"
      ],
      "metadata": {
        "id": "Fyeu1C1nELOp"
      }
    },
    {
      "cell_type": "code",
      "source": [
        "from sklearn.preprocessing import StandardScaler\n",
        "from sklearn.svm import SVC"
      ],
      "metadata": {
        "id": "crNVZbaYERmh"
      },
      "execution_count": 341,
      "outputs": []
    },
    {
      "cell_type": "markdown",
      "source": [
        "Recriando as bases de dados - SVC:"
      ],
      "metadata": {
        "id": "mLlVTov3EVMI"
      }
    },
    {
      "cell_type": "code",
      "source": [
        "SEED = 20\n",
        "np.random.seed(SEED)\n",
        "raw_treino_x, raw_teste_x, treino_y, teste_y = train_test_split(x, y, test_size = 0.30,\n",
        "                                                                stratify = y)\n",
        "print (f\"Treino: {len(treino_x)} | Teste: {len(teste_x)}\")\n",
        "\n",
        "scaler = StandardScaler()\n",
        "scaler.fit(raw_treino_x)\n",
        "\n",
        "treino_x = scaler.transform(raw_treino_x)\n",
        "teste_x = scaler.transform(raw_teste_x)"
      ],
      "metadata": {
        "colab": {
          "base_uri": "https://localhost:8080/"
        },
        "id": "1qc0nNziEa-a",
        "outputId": "d045225a-6fa1-44be-fdd6-cc3de7457f1d"
      },
      "execution_count": 342,
      "outputs": [
        {
          "output_type": "stream",
          "name": "stdout",
          "text": [
            "Treino: 2361 | Teste: 1012\n"
          ]
        }
      ]
    },
    {
      "cell_type": "markdown",
      "source": [
        "# TREINAMENTO / TESTE / ACURACIA - SVC"
      ],
      "metadata": {
        "id": "bCRPBIZEEgQx"
      }
    },
    {
      "cell_type": "markdown",
      "source": [
        "Treinando, Testando e Acurácia com Modelo Sklearn SVC:"
      ],
      "metadata": {
        "id": "BZL_nqsSEja4"
      }
    },
    {
      "cell_type": "code",
      "source": [
        "# Treinando:\n",
        "modelo2 = SVC()\n",
        "modelo2.fit(treino_x, treino_y)\n",
        "\n",
        "# Testando:\n",
        "previsoes4 = modelo2.predict(teste_x)\n",
        "\n",
        "# Acurácia:\n",
        "acuracia4 = accuracy_score(teste_y, previsoes4)*100\n",
        "print(f\"Acuracia Modelo SVC: {acuracia4:.2f}%\")"
      ],
      "metadata": {
        "colab": {
          "base_uri": "https://localhost:8080/"
        },
        "id": "sfUii0t2El6w",
        "outputId": "42281307-c943-4cb6-8408-eaa349bbe5f3"
      },
      "execution_count": 343,
      "outputs": [
        {
          "output_type": "stream",
          "name": "stdout",
          "text": [
            "Acuracia Modelo SVC: 75.20%\n"
          ]
        }
      ]
    }
  ]
}