{
  "nbformat": 4,
  "nbformat_minor": 0,
  "metadata": {
    "colab": {
      "name": "Proj04_IA_Covid.ipynb",
      "provenance": [],
      "toc_visible": true,
      "authorship_tag": "ABX9TyPyvSQd2/gbBTIolkI6K8CZ",
      "include_colab_link": true
    },
    "kernelspec": {
      "name": "python3",
      "display_name": "Python 3"
    },
    "language_info": {
      "name": "python"
    }
  },
  "cells": [
    {
      "cell_type": "markdown",
      "metadata": {
        "id": "view-in-github",
        "colab_type": "text"
      },
      "source": [
        "<a href=\"https://colab.research.google.com/github/felipe-tneves/Proj-IA-Covid/blob/main/Proj04_IA_Covid.ipynb\" target=\"_parent\"><img src=\"https://colab.research.google.com/assets/colab-badge.svg\" alt=\"Open In Colab\"/></a>"
      ]
    },
    {
      "cell_type": "markdown",
      "source": [
        "# Trabalho de IA - Projeto 04\n",
        "\n",
        "Esse Projeto foi baseado no Projeto 04 - Predição de Venda de carro\n",
        "\n",
        "Link desse colab: https://colab.research.google.com/drive/1anE8X-hXcNmPItngjRQd4rZcsEm3AfUG#scrollTo=pSwficsvVo7I\n",
        "\n",
        "Aluno: Felipe Tadeu Neves Santos  \n",
        "\n",
        "RA: N3123E0\n",
        "\n",
        "Turma: CP9P01\n",
        "\n",
        "Disciplina: Inteligência Artificial\n",
        "\n",
        "Professor Vinicius Heltai\n",
        "\n",
        "Campus: Indianópolis/Bacelar\n",
        "\n",
        "# Integrantes do grupo:\n",
        "\n",
        "- Armando José de Souza D756320\n",
        "- Felipe Tadeu Neves Santos N3123E0\n",
        "- Giovanni Roberto Pereira Bonfante D500EG6\n",
        "- Thiago Ribeiro da Silva D58DID7\n",
        "- Victor Galves Aro N268972\n",
        "\n",
        "#Bases de dados usada:\n",
        "\n",
        "https://github.com/seade-R/dados-covid-sp/tree/master/data\n",
        "\n",
        "Relação de número de obitos de Covid com doenças pré-existentes  "
      ],
      "metadata": {
        "id": "pSwficsvVo7I"
      }
    },
    {
      "cell_type": "markdown",
      "source": [
        "# Base de dados "
      ],
      "metadata": {
        "id": "ZcZZAdD1WETj"
      }
    },
    {
      "cell_type": "code",
      "execution_count": 49,
      "metadata": {
        "colab": {
          "base_uri": "https://localhost:8080/",
          "height": 0
        },
        "id": "cul-JS_7Dhf6",
        "outputId": "b8829df4-2d04-43f9-aa59-deb8ecb679cd"
      },
      "outputs": [
        {
          "output_type": "execute_result",
          "data": {
            "text/plain": [
              "  nome_munic  idade    cs_sexo  obito diabetes\n",
              "0  São Paulo     79  MASCULINO      1      SIM\n",
              "1  São Paulo     65  MASCULINO      0      SIM\n",
              "2  São Paulo     39  MASCULINO      0      SIM\n",
              "3  São Paulo     54  MASCULINO      0      SIM\n",
              "4  São Paulo     84  MASCULINO      0      SIM"
            ],
            "text/html": [
              "\n",
              "  <div id=\"df-b6e59c31-0e17-4f17-ab0e-8a53b6fb31c3\">\n",
              "    <div class=\"colab-df-container\">\n",
              "      <div>\n",
              "<style scoped>\n",
              "    .dataframe tbody tr th:only-of-type {\n",
              "        vertical-align: middle;\n",
              "    }\n",
              "\n",
              "    .dataframe tbody tr th {\n",
              "        vertical-align: top;\n",
              "    }\n",
              "\n",
              "    .dataframe thead th {\n",
              "        text-align: right;\n",
              "    }\n",
              "</style>\n",
              "<table border=\"1\" class=\"dataframe\">\n",
              "  <thead>\n",
              "    <tr style=\"text-align: right;\">\n",
              "      <th></th>\n",
              "      <th>nome_munic</th>\n",
              "      <th>idade</th>\n",
              "      <th>cs_sexo</th>\n",
              "      <th>obito</th>\n",
              "      <th>diabetes</th>\n",
              "    </tr>\n",
              "  </thead>\n",
              "  <tbody>\n",
              "    <tr>\n",
              "      <th>0</th>\n",
              "      <td>São Paulo</td>\n",
              "      <td>79</td>\n",
              "      <td>MASCULINO</td>\n",
              "      <td>1</td>\n",
              "      <td>SIM</td>\n",
              "    </tr>\n",
              "    <tr>\n",
              "      <th>1</th>\n",
              "      <td>São Paulo</td>\n",
              "      <td>65</td>\n",
              "      <td>MASCULINO</td>\n",
              "      <td>0</td>\n",
              "      <td>SIM</td>\n",
              "    </tr>\n",
              "    <tr>\n",
              "      <th>2</th>\n",
              "      <td>São Paulo</td>\n",
              "      <td>39</td>\n",
              "      <td>MASCULINO</td>\n",
              "      <td>0</td>\n",
              "      <td>SIM</td>\n",
              "    </tr>\n",
              "    <tr>\n",
              "      <th>3</th>\n",
              "      <td>São Paulo</td>\n",
              "      <td>54</td>\n",
              "      <td>MASCULINO</td>\n",
              "      <td>0</td>\n",
              "      <td>SIM</td>\n",
              "    </tr>\n",
              "    <tr>\n",
              "      <th>4</th>\n",
              "      <td>São Paulo</td>\n",
              "      <td>84</td>\n",
              "      <td>MASCULINO</td>\n",
              "      <td>0</td>\n",
              "      <td>SIM</td>\n",
              "    </tr>\n",
              "  </tbody>\n",
              "</table>\n",
              "</div>\n",
              "      <button class=\"colab-df-convert\" onclick=\"convertToInteractive('df-b6e59c31-0e17-4f17-ab0e-8a53b6fb31c3')\"\n",
              "              title=\"Convert this dataframe to an interactive table.\"\n",
              "              style=\"display:none;\">\n",
              "        \n",
              "  <svg xmlns=\"http://www.w3.org/2000/svg\" height=\"24px\"viewBox=\"0 0 24 24\"\n",
              "       width=\"24px\">\n",
              "    <path d=\"M0 0h24v24H0V0z\" fill=\"none\"/>\n",
              "    <path d=\"M18.56 5.44l.94 2.06.94-2.06 2.06-.94-2.06-.94-.94-2.06-.94 2.06-2.06.94zm-11 1L8.5 8.5l.94-2.06 2.06-.94-2.06-.94L8.5 2.5l-.94 2.06-2.06.94zm10 10l.94 2.06.94-2.06 2.06-.94-2.06-.94-.94-2.06-.94 2.06-2.06.94z\"/><path d=\"M17.41 7.96l-1.37-1.37c-.4-.4-.92-.59-1.43-.59-.52 0-1.04.2-1.43.59L10.3 9.45l-7.72 7.72c-.78.78-.78 2.05 0 2.83L4 21.41c.39.39.9.59 1.41.59.51 0 1.02-.2 1.41-.59l7.78-7.78 2.81-2.81c.8-.78.8-2.07 0-2.86zM5.41 20L4 18.59l7.72-7.72 1.47 1.35L5.41 20z\"/>\n",
              "  </svg>\n",
              "      </button>\n",
              "      \n",
              "  <style>\n",
              "    .colab-df-container {\n",
              "      display:flex;\n",
              "      flex-wrap:wrap;\n",
              "      gap: 12px;\n",
              "    }\n",
              "\n",
              "    .colab-df-convert {\n",
              "      background-color: #E8F0FE;\n",
              "      border: none;\n",
              "      border-radius: 50%;\n",
              "      cursor: pointer;\n",
              "      display: none;\n",
              "      fill: #1967D2;\n",
              "      height: 32px;\n",
              "      padding: 0 0 0 0;\n",
              "      width: 32px;\n",
              "    }\n",
              "\n",
              "    .colab-df-convert:hover {\n",
              "      background-color: #E2EBFA;\n",
              "      box-shadow: 0px 1px 2px rgba(60, 64, 67, 0.3), 0px 1px 3px 1px rgba(60, 64, 67, 0.15);\n",
              "      fill: #174EA6;\n",
              "    }\n",
              "\n",
              "    [theme=dark] .colab-df-convert {\n",
              "      background-color: #3B4455;\n",
              "      fill: #D2E3FC;\n",
              "    }\n",
              "\n",
              "    [theme=dark] .colab-df-convert:hover {\n",
              "      background-color: #434B5C;\n",
              "      box-shadow: 0px 1px 3px 1px rgba(0, 0, 0, 0.15);\n",
              "      filter: drop-shadow(0px 1px 2px rgba(0, 0, 0, 0.3));\n",
              "      fill: #FFFFFF;\n",
              "    }\n",
              "  </style>\n",
              "\n",
              "      <script>\n",
              "        const buttonEl =\n",
              "          document.querySelector('#df-b6e59c31-0e17-4f17-ab0e-8a53b6fb31c3 button.colab-df-convert');\n",
              "        buttonEl.style.display =\n",
              "          google.colab.kernel.accessAllowed ? 'block' : 'none';\n",
              "\n",
              "        async function convertToInteractive(key) {\n",
              "          const element = document.querySelector('#df-b6e59c31-0e17-4f17-ab0e-8a53b6fb31c3');\n",
              "          const dataTable =\n",
              "            await google.colab.kernel.invokeFunction('convertToInteractive',\n",
              "                                                     [key], {});\n",
              "          if (!dataTable) return;\n",
              "\n",
              "          const docLinkHtml = 'Like what you see? Visit the ' +\n",
              "            '<a target=\"_blank\" href=https://colab.research.google.com/notebooks/data_table.ipynb>data table notebook</a>'\n",
              "            + ' to learn more about interactive tables.';\n",
              "          element.innerHTML = '';\n",
              "          dataTable['output_type'] = 'display_data';\n",
              "          await google.colab.output.renderOutput(dataTable, element);\n",
              "          const docLink = document.createElement('div');\n",
              "          docLink.innerHTML = docLinkHtml;\n",
              "          element.appendChild(docLink);\n",
              "        }\n",
              "      </script>\n",
              "    </div>\n",
              "  </div>\n",
              "  "
            ]
          },
          "metadata": {},
          "execution_count": 49
        }
      ],
      "source": [
        "# Importa a biblioteca Pandas:\n",
        "import pandas as pd\n",
        "\n",
        "# Determina qual é a URL que consta nossos dados:\n",
        "URL = \"https://raw.githubusercontent.com/felipe-tneves/Proj-IA-Covid/main/SP-Covid-doen%C3%A7as%20pre%20existentes.csv\"\n",
        "\n",
        "# Define como dados todos os dados extraidos pelo Pandas Read de CSV:\n",
        "dados = pd.read_csv(URL, encoding=\"ISO-8859-1\")\n",
        "\n",
        "# Imprime os primeiros itens dos dados para confirmar:\n",
        "dados.head()"
      ]
    },
    {
      "cell_type": "code",
      "source": [
        "# Cria o dicionario de equivalencia:\n",
        "a_renomear = {\n",
        "    'nome_munic' : 'cidade_SP',\n",
        "    'cs_sexo' : 'sexo'\n",
        "}\n",
        "\n",
        "# Atribui novamente a dados com a renomeação do dicionario:\n",
        "dados = dados.rename(columns = a_renomear)\n",
        "\n",
        "# Apresenta o head inicial dos dados (ja modificados):\n",
        "dados.head()"
      ],
      "metadata": {
        "colab": {
          "base_uri": "https://localhost:8080/",
          "height": 0
        },
        "id": "Bx7YWG7kEXge",
        "outputId": "b8e0bd7b-cf1a-4e07-fc9d-7c3b8cec8a08"
      },
      "execution_count": 50,
      "outputs": [
        {
          "output_type": "execute_result",
          "data": {
            "text/plain": [
              "   cidade_SP  idade       sexo  obito diabetes\n",
              "0  São Paulo     79  MASCULINO      1      SIM\n",
              "1  São Paulo     65  MASCULINO      0      SIM\n",
              "2  São Paulo     39  MASCULINO      0      SIM\n",
              "3  São Paulo     54  MASCULINO      0      SIM\n",
              "4  São Paulo     84  MASCULINO      0      SIM"
            ],
            "text/html": [
              "\n",
              "  <div id=\"df-6b5155e5-4127-477d-810e-bdc786f75a1d\">\n",
              "    <div class=\"colab-df-container\">\n",
              "      <div>\n",
              "<style scoped>\n",
              "    .dataframe tbody tr th:only-of-type {\n",
              "        vertical-align: middle;\n",
              "    }\n",
              "\n",
              "    .dataframe tbody tr th {\n",
              "        vertical-align: top;\n",
              "    }\n",
              "\n",
              "    .dataframe thead th {\n",
              "        text-align: right;\n",
              "    }\n",
              "</style>\n",
              "<table border=\"1\" class=\"dataframe\">\n",
              "  <thead>\n",
              "    <tr style=\"text-align: right;\">\n",
              "      <th></th>\n",
              "      <th>cidade_SP</th>\n",
              "      <th>idade</th>\n",
              "      <th>sexo</th>\n",
              "      <th>obito</th>\n",
              "      <th>diabetes</th>\n",
              "    </tr>\n",
              "  </thead>\n",
              "  <tbody>\n",
              "    <tr>\n",
              "      <th>0</th>\n",
              "      <td>São Paulo</td>\n",
              "      <td>79</td>\n",
              "      <td>MASCULINO</td>\n",
              "      <td>1</td>\n",
              "      <td>SIM</td>\n",
              "    </tr>\n",
              "    <tr>\n",
              "      <th>1</th>\n",
              "      <td>São Paulo</td>\n",
              "      <td>65</td>\n",
              "      <td>MASCULINO</td>\n",
              "      <td>0</td>\n",
              "      <td>SIM</td>\n",
              "    </tr>\n",
              "    <tr>\n",
              "      <th>2</th>\n",
              "      <td>São Paulo</td>\n",
              "      <td>39</td>\n",
              "      <td>MASCULINO</td>\n",
              "      <td>0</td>\n",
              "      <td>SIM</td>\n",
              "    </tr>\n",
              "    <tr>\n",
              "      <th>3</th>\n",
              "      <td>São Paulo</td>\n",
              "      <td>54</td>\n",
              "      <td>MASCULINO</td>\n",
              "      <td>0</td>\n",
              "      <td>SIM</td>\n",
              "    </tr>\n",
              "    <tr>\n",
              "      <th>4</th>\n",
              "      <td>São Paulo</td>\n",
              "      <td>84</td>\n",
              "      <td>MASCULINO</td>\n",
              "      <td>0</td>\n",
              "      <td>SIM</td>\n",
              "    </tr>\n",
              "  </tbody>\n",
              "</table>\n",
              "</div>\n",
              "      <button class=\"colab-df-convert\" onclick=\"convertToInteractive('df-6b5155e5-4127-477d-810e-bdc786f75a1d')\"\n",
              "              title=\"Convert this dataframe to an interactive table.\"\n",
              "              style=\"display:none;\">\n",
              "        \n",
              "  <svg xmlns=\"http://www.w3.org/2000/svg\" height=\"24px\"viewBox=\"0 0 24 24\"\n",
              "       width=\"24px\">\n",
              "    <path d=\"M0 0h24v24H0V0z\" fill=\"none\"/>\n",
              "    <path d=\"M18.56 5.44l.94 2.06.94-2.06 2.06-.94-2.06-.94-.94-2.06-.94 2.06-2.06.94zm-11 1L8.5 8.5l.94-2.06 2.06-.94-2.06-.94L8.5 2.5l-.94 2.06-2.06.94zm10 10l.94 2.06.94-2.06 2.06-.94-2.06-.94-.94-2.06-.94 2.06-2.06.94z\"/><path d=\"M17.41 7.96l-1.37-1.37c-.4-.4-.92-.59-1.43-.59-.52 0-1.04.2-1.43.59L10.3 9.45l-7.72 7.72c-.78.78-.78 2.05 0 2.83L4 21.41c.39.39.9.59 1.41.59.51 0 1.02-.2 1.41-.59l7.78-7.78 2.81-2.81c.8-.78.8-2.07 0-2.86zM5.41 20L4 18.59l7.72-7.72 1.47 1.35L5.41 20z\"/>\n",
              "  </svg>\n",
              "      </button>\n",
              "      \n",
              "  <style>\n",
              "    .colab-df-container {\n",
              "      display:flex;\n",
              "      flex-wrap:wrap;\n",
              "      gap: 12px;\n",
              "    }\n",
              "\n",
              "    .colab-df-convert {\n",
              "      background-color: #E8F0FE;\n",
              "      border: none;\n",
              "      border-radius: 50%;\n",
              "      cursor: pointer;\n",
              "      display: none;\n",
              "      fill: #1967D2;\n",
              "      height: 32px;\n",
              "      padding: 0 0 0 0;\n",
              "      width: 32px;\n",
              "    }\n",
              "\n",
              "    .colab-df-convert:hover {\n",
              "      background-color: #E2EBFA;\n",
              "      box-shadow: 0px 1px 2px rgba(60, 64, 67, 0.3), 0px 1px 3px 1px rgba(60, 64, 67, 0.15);\n",
              "      fill: #174EA6;\n",
              "    }\n",
              "\n",
              "    [theme=dark] .colab-df-convert {\n",
              "      background-color: #3B4455;\n",
              "      fill: #D2E3FC;\n",
              "    }\n",
              "\n",
              "    [theme=dark] .colab-df-convert:hover {\n",
              "      background-color: #434B5C;\n",
              "      box-shadow: 0px 1px 3px 1px rgba(0, 0, 0, 0.15);\n",
              "      filter: drop-shadow(0px 1px 2px rgba(0, 0, 0, 0.3));\n",
              "      fill: #FFFFFF;\n",
              "    }\n",
              "  </style>\n",
              "\n",
              "      <script>\n",
              "        const buttonEl =\n",
              "          document.querySelector('#df-6b5155e5-4127-477d-810e-bdc786f75a1d button.colab-df-convert');\n",
              "        buttonEl.style.display =\n",
              "          google.colab.kernel.accessAllowed ? 'block' : 'none';\n",
              "\n",
              "        async function convertToInteractive(key) {\n",
              "          const element = document.querySelector('#df-6b5155e5-4127-477d-810e-bdc786f75a1d');\n",
              "          const dataTable =\n",
              "            await google.colab.kernel.invokeFunction('convertToInteractive',\n",
              "                                                     [key], {});\n",
              "          if (!dataTable) return;\n",
              "\n",
              "          const docLinkHtml = 'Like what you see? Visit the ' +\n",
              "            '<a target=\"_blank\" href=https://colab.research.google.com/notebooks/data_table.ipynb>data table notebook</a>'\n",
              "            + ' to learn more about interactive tables.';\n",
              "          element.innerHTML = '';\n",
              "          dataTable['output_type'] = 'display_data';\n",
              "          await google.colab.output.renderOutput(dataTable, element);\n",
              "          const docLink = document.createElement('div');\n",
              "          docLink.innerHTML = docLinkHtml;\n",
              "          element.appendChild(docLink);\n",
              "        }\n",
              "      </script>\n",
              "    </div>\n",
              "  </div>\n",
              "  "
            ]
          },
          "metadata": {},
          "execution_count": 50
        }
      ]
    },
    {
      "cell_type": "code",
      "source": [
        "# Apresenta o head final dos dados (ja modificados):\n",
        "dados.tail()"
      ],
      "metadata": {
        "colab": {
          "base_uri": "https://localhost:8080/",
          "height": 0
        },
        "id": "EuiBgKq8Ezyf",
        "outputId": "4fb5f3da-6291-4056-917a-0860bba0b086"
      },
      "execution_count": 51,
      "outputs": [
        {
          "output_type": "execute_result",
          "data": {
            "text/plain": [
              "      cidade_SP  idade       sexo  obito diabetes\n",
              "3368  São Paulo     39  MASCULINO      0      SIM\n",
              "3369  São Paulo     67  MASCULINO      0      SIM\n",
              "3370  São Paulo     80  MASCULINO      0      SIM\n",
              "3371  São Paulo     84  MASCULINO      1      NÃO\n",
              "3372  São Paulo     74  MASCULINO      0      SIM"
            ],
            "text/html": [
              "\n",
              "  <div id=\"df-d500d378-9e2f-4447-9d35-d5f45b66f4a5\">\n",
              "    <div class=\"colab-df-container\">\n",
              "      <div>\n",
              "<style scoped>\n",
              "    .dataframe tbody tr th:only-of-type {\n",
              "        vertical-align: middle;\n",
              "    }\n",
              "\n",
              "    .dataframe tbody tr th {\n",
              "        vertical-align: top;\n",
              "    }\n",
              "\n",
              "    .dataframe thead th {\n",
              "        text-align: right;\n",
              "    }\n",
              "</style>\n",
              "<table border=\"1\" class=\"dataframe\">\n",
              "  <thead>\n",
              "    <tr style=\"text-align: right;\">\n",
              "      <th></th>\n",
              "      <th>cidade_SP</th>\n",
              "      <th>idade</th>\n",
              "      <th>sexo</th>\n",
              "      <th>obito</th>\n",
              "      <th>diabetes</th>\n",
              "    </tr>\n",
              "  </thead>\n",
              "  <tbody>\n",
              "    <tr>\n",
              "      <th>3368</th>\n",
              "      <td>São Paulo</td>\n",
              "      <td>39</td>\n",
              "      <td>MASCULINO</td>\n",
              "      <td>0</td>\n",
              "      <td>SIM</td>\n",
              "    </tr>\n",
              "    <tr>\n",
              "      <th>3369</th>\n",
              "      <td>São Paulo</td>\n",
              "      <td>67</td>\n",
              "      <td>MASCULINO</td>\n",
              "      <td>0</td>\n",
              "      <td>SIM</td>\n",
              "    </tr>\n",
              "    <tr>\n",
              "      <th>3370</th>\n",
              "      <td>São Paulo</td>\n",
              "      <td>80</td>\n",
              "      <td>MASCULINO</td>\n",
              "      <td>0</td>\n",
              "      <td>SIM</td>\n",
              "    </tr>\n",
              "    <tr>\n",
              "      <th>3371</th>\n",
              "      <td>São Paulo</td>\n",
              "      <td>84</td>\n",
              "      <td>MASCULINO</td>\n",
              "      <td>1</td>\n",
              "      <td>NÃO</td>\n",
              "    </tr>\n",
              "    <tr>\n",
              "      <th>3372</th>\n",
              "      <td>São Paulo</td>\n",
              "      <td>74</td>\n",
              "      <td>MASCULINO</td>\n",
              "      <td>0</td>\n",
              "      <td>SIM</td>\n",
              "    </tr>\n",
              "  </tbody>\n",
              "</table>\n",
              "</div>\n",
              "      <button class=\"colab-df-convert\" onclick=\"convertToInteractive('df-d500d378-9e2f-4447-9d35-d5f45b66f4a5')\"\n",
              "              title=\"Convert this dataframe to an interactive table.\"\n",
              "              style=\"display:none;\">\n",
              "        \n",
              "  <svg xmlns=\"http://www.w3.org/2000/svg\" height=\"24px\"viewBox=\"0 0 24 24\"\n",
              "       width=\"24px\">\n",
              "    <path d=\"M0 0h24v24H0V0z\" fill=\"none\"/>\n",
              "    <path d=\"M18.56 5.44l.94 2.06.94-2.06 2.06-.94-2.06-.94-.94-2.06-.94 2.06-2.06.94zm-11 1L8.5 8.5l.94-2.06 2.06-.94-2.06-.94L8.5 2.5l-.94 2.06-2.06.94zm10 10l.94 2.06.94-2.06 2.06-.94-2.06-.94-.94-2.06-.94 2.06-2.06.94z\"/><path d=\"M17.41 7.96l-1.37-1.37c-.4-.4-.92-.59-1.43-.59-.52 0-1.04.2-1.43.59L10.3 9.45l-7.72 7.72c-.78.78-.78 2.05 0 2.83L4 21.41c.39.39.9.59 1.41.59.51 0 1.02-.2 1.41-.59l7.78-7.78 2.81-2.81c.8-.78.8-2.07 0-2.86zM5.41 20L4 18.59l7.72-7.72 1.47 1.35L5.41 20z\"/>\n",
              "  </svg>\n",
              "      </button>\n",
              "      \n",
              "  <style>\n",
              "    .colab-df-container {\n",
              "      display:flex;\n",
              "      flex-wrap:wrap;\n",
              "      gap: 12px;\n",
              "    }\n",
              "\n",
              "    .colab-df-convert {\n",
              "      background-color: #E8F0FE;\n",
              "      border: none;\n",
              "      border-radius: 50%;\n",
              "      cursor: pointer;\n",
              "      display: none;\n",
              "      fill: #1967D2;\n",
              "      height: 32px;\n",
              "      padding: 0 0 0 0;\n",
              "      width: 32px;\n",
              "    }\n",
              "\n",
              "    .colab-df-convert:hover {\n",
              "      background-color: #E2EBFA;\n",
              "      box-shadow: 0px 1px 2px rgba(60, 64, 67, 0.3), 0px 1px 3px 1px rgba(60, 64, 67, 0.15);\n",
              "      fill: #174EA6;\n",
              "    }\n",
              "\n",
              "    [theme=dark] .colab-df-convert {\n",
              "      background-color: #3B4455;\n",
              "      fill: #D2E3FC;\n",
              "    }\n",
              "\n",
              "    [theme=dark] .colab-df-convert:hover {\n",
              "      background-color: #434B5C;\n",
              "      box-shadow: 0px 1px 3px 1px rgba(0, 0, 0, 0.15);\n",
              "      filter: drop-shadow(0px 1px 2px rgba(0, 0, 0, 0.3));\n",
              "      fill: #FFFFFF;\n",
              "    }\n",
              "  </style>\n",
              "\n",
              "      <script>\n",
              "        const buttonEl =\n",
              "          document.querySelector('#df-d500d378-9e2f-4447-9d35-d5f45b66f4a5 button.colab-df-convert');\n",
              "        buttonEl.style.display =\n",
              "          google.colab.kernel.accessAllowed ? 'block' : 'none';\n",
              "\n",
              "        async function convertToInteractive(key) {\n",
              "          const element = document.querySelector('#df-d500d378-9e2f-4447-9d35-d5f45b66f4a5');\n",
              "          const dataTable =\n",
              "            await google.colab.kernel.invokeFunction('convertToInteractive',\n",
              "                                                     [key], {});\n",
              "          if (!dataTable) return;\n",
              "\n",
              "          const docLinkHtml = 'Like what you see? Visit the ' +\n",
              "            '<a target=\"_blank\" href=https://colab.research.google.com/notebooks/data_table.ipynb>data table notebook</a>'\n",
              "            + ' to learn more about interactive tables.';\n",
              "          element.innerHTML = '';\n",
              "          dataTable['output_type'] = 'display_data';\n",
              "          await google.colab.output.renderOutput(dataTable, element);\n",
              "          const docLink = document.createElement('div');\n",
              "          docLink.innerHTML = docLinkHtml;\n",
              "          element.appendChild(docLink);\n",
              "        }\n",
              "      </script>\n",
              "    </div>\n",
              "  </div>\n",
              "  "
            ]
          },
          "metadata": {},
          "execution_count": 51
        }
      ]
    },
    {
      "cell_type": "code",
      "source": [
        "# Dicionario de Troca de SIM para 1 e NÃO para 0:\n",
        "troca = {\n",
        "    'SIM' : 1,\n",
        "    'NÃO' : 0\n",
        "}\n",
        "# Aplica o dicionario e atribui numa coluna \"diabetes\"\n",
        "\n",
        "dados['diabetes'] = dados.diabetes.map(troca)\n",
        "\n",
        "# Apresenta o head inicial dos dados (ja modificados):\n",
        "dados.head()"
      ],
      "metadata": {
        "colab": {
          "base_uri": "https://localhost:8080/",
          "height": 0
        },
        "id": "WXBiNUKyE3N4",
        "outputId": "60b10ae2-a2ed-48dd-f14e-4f89e61f8fa5"
      },
      "execution_count": 52,
      "outputs": [
        {
          "output_type": "execute_result",
          "data": {
            "text/plain": [
              "   cidade_SP  idade       sexo  obito  diabetes\n",
              "0  São Paulo     79  MASCULINO      1         1\n",
              "1  São Paulo     65  MASCULINO      0         1\n",
              "2  São Paulo     39  MASCULINO      0         1\n",
              "3  São Paulo     54  MASCULINO      0         1\n",
              "4  São Paulo     84  MASCULINO      0         1"
            ],
            "text/html": [
              "\n",
              "  <div id=\"df-853a8063-81df-4281-8ec7-40860ab682d3\">\n",
              "    <div class=\"colab-df-container\">\n",
              "      <div>\n",
              "<style scoped>\n",
              "    .dataframe tbody tr th:only-of-type {\n",
              "        vertical-align: middle;\n",
              "    }\n",
              "\n",
              "    .dataframe tbody tr th {\n",
              "        vertical-align: top;\n",
              "    }\n",
              "\n",
              "    .dataframe thead th {\n",
              "        text-align: right;\n",
              "    }\n",
              "</style>\n",
              "<table border=\"1\" class=\"dataframe\">\n",
              "  <thead>\n",
              "    <tr style=\"text-align: right;\">\n",
              "      <th></th>\n",
              "      <th>cidade_SP</th>\n",
              "      <th>idade</th>\n",
              "      <th>sexo</th>\n",
              "      <th>obito</th>\n",
              "      <th>diabetes</th>\n",
              "    </tr>\n",
              "  </thead>\n",
              "  <tbody>\n",
              "    <tr>\n",
              "      <th>0</th>\n",
              "      <td>São Paulo</td>\n",
              "      <td>79</td>\n",
              "      <td>MASCULINO</td>\n",
              "      <td>1</td>\n",
              "      <td>1</td>\n",
              "    </tr>\n",
              "    <tr>\n",
              "      <th>1</th>\n",
              "      <td>São Paulo</td>\n",
              "      <td>65</td>\n",
              "      <td>MASCULINO</td>\n",
              "      <td>0</td>\n",
              "      <td>1</td>\n",
              "    </tr>\n",
              "    <tr>\n",
              "      <th>2</th>\n",
              "      <td>São Paulo</td>\n",
              "      <td>39</td>\n",
              "      <td>MASCULINO</td>\n",
              "      <td>0</td>\n",
              "      <td>1</td>\n",
              "    </tr>\n",
              "    <tr>\n",
              "      <th>3</th>\n",
              "      <td>São Paulo</td>\n",
              "      <td>54</td>\n",
              "      <td>MASCULINO</td>\n",
              "      <td>0</td>\n",
              "      <td>1</td>\n",
              "    </tr>\n",
              "    <tr>\n",
              "      <th>4</th>\n",
              "      <td>São Paulo</td>\n",
              "      <td>84</td>\n",
              "      <td>MASCULINO</td>\n",
              "      <td>0</td>\n",
              "      <td>1</td>\n",
              "    </tr>\n",
              "  </tbody>\n",
              "</table>\n",
              "</div>\n",
              "      <button class=\"colab-df-convert\" onclick=\"convertToInteractive('df-853a8063-81df-4281-8ec7-40860ab682d3')\"\n",
              "              title=\"Convert this dataframe to an interactive table.\"\n",
              "              style=\"display:none;\">\n",
              "        \n",
              "  <svg xmlns=\"http://www.w3.org/2000/svg\" height=\"24px\"viewBox=\"0 0 24 24\"\n",
              "       width=\"24px\">\n",
              "    <path d=\"M0 0h24v24H0V0z\" fill=\"none\"/>\n",
              "    <path d=\"M18.56 5.44l.94 2.06.94-2.06 2.06-.94-2.06-.94-.94-2.06-.94 2.06-2.06.94zm-11 1L8.5 8.5l.94-2.06 2.06-.94-2.06-.94L8.5 2.5l-.94 2.06-2.06.94zm10 10l.94 2.06.94-2.06 2.06-.94-2.06-.94-.94-2.06-.94 2.06-2.06.94z\"/><path d=\"M17.41 7.96l-1.37-1.37c-.4-.4-.92-.59-1.43-.59-.52 0-1.04.2-1.43.59L10.3 9.45l-7.72 7.72c-.78.78-.78 2.05 0 2.83L4 21.41c.39.39.9.59 1.41.59.51 0 1.02-.2 1.41-.59l7.78-7.78 2.81-2.81c.8-.78.8-2.07 0-2.86zM5.41 20L4 18.59l7.72-7.72 1.47 1.35L5.41 20z\"/>\n",
              "  </svg>\n",
              "      </button>\n",
              "      \n",
              "  <style>\n",
              "    .colab-df-container {\n",
              "      display:flex;\n",
              "      flex-wrap:wrap;\n",
              "      gap: 12px;\n",
              "    }\n",
              "\n",
              "    .colab-df-convert {\n",
              "      background-color: #E8F0FE;\n",
              "      border: none;\n",
              "      border-radius: 50%;\n",
              "      cursor: pointer;\n",
              "      display: none;\n",
              "      fill: #1967D2;\n",
              "      height: 32px;\n",
              "      padding: 0 0 0 0;\n",
              "      width: 32px;\n",
              "    }\n",
              "\n",
              "    .colab-df-convert:hover {\n",
              "      background-color: #E2EBFA;\n",
              "      box-shadow: 0px 1px 2px rgba(60, 64, 67, 0.3), 0px 1px 3px 1px rgba(60, 64, 67, 0.15);\n",
              "      fill: #174EA6;\n",
              "    }\n",
              "\n",
              "    [theme=dark] .colab-df-convert {\n",
              "      background-color: #3B4455;\n",
              "      fill: #D2E3FC;\n",
              "    }\n",
              "\n",
              "    [theme=dark] .colab-df-convert:hover {\n",
              "      background-color: #434B5C;\n",
              "      box-shadow: 0px 1px 3px 1px rgba(0, 0, 0, 0.15);\n",
              "      filter: drop-shadow(0px 1px 2px rgba(0, 0, 0, 0.3));\n",
              "      fill: #FFFFFF;\n",
              "    }\n",
              "  </style>\n",
              "\n",
              "      <script>\n",
              "        const buttonEl =\n",
              "          document.querySelector('#df-853a8063-81df-4281-8ec7-40860ab682d3 button.colab-df-convert');\n",
              "        buttonEl.style.display =\n",
              "          google.colab.kernel.accessAllowed ? 'block' : 'none';\n",
              "\n",
              "        async function convertToInteractive(key) {\n",
              "          const element = document.querySelector('#df-853a8063-81df-4281-8ec7-40860ab682d3');\n",
              "          const dataTable =\n",
              "            await google.colab.kernel.invokeFunction('convertToInteractive',\n",
              "                                                     [key], {});\n",
              "          if (!dataTable) return;\n",
              "\n",
              "          const docLinkHtml = 'Like what you see? Visit the ' +\n",
              "            '<a target=\"_blank\" href=https://colab.research.google.com/notebooks/data_table.ipynb>data table notebook</a>'\n",
              "            + ' to learn more about interactive tables.';\n",
              "          element.innerHTML = '';\n",
              "          dataTable['output_type'] = 'display_data';\n",
              "          await google.colab.output.renderOutput(dataTable, element);\n",
              "          const docLink = document.createElement('div');\n",
              "          docLink.innerHTML = docLinkHtml;\n",
              "          element.appendChild(docLink);\n",
              "        }\n",
              "      </script>\n",
              "    </div>\n",
              "  </div>\n",
              "  "
            ]
          },
          "metadata": {},
          "execution_count": 52
        }
      ]
    },
    {
      "cell_type": "code",
      "source": [
        "# Dicionario de Troca de MASCULINO para 1 e FEMININO para 0:\n",
        "troca = {\n",
        "    'MASCULINO' : 1,\n",
        "    'FEMININO' : 0\n",
        "}\n",
        "# Aplica o dicionario e atribui na coluna \"sexo\"\n",
        "dados['sexo'] = dados.sexo.map(troca)\n",
        "\n",
        "# Apresenta o head inicial dos dados (ja modificados):\n",
        "dados.head()"
      ],
      "metadata": {
        "colab": {
          "base_uri": "https://localhost:8080/",
          "height": 0
        },
        "id": "IRR1su-YFV63",
        "outputId": "80c62808-2fa4-48ca-dbb6-b8f2218dccdf"
      },
      "execution_count": 53,
      "outputs": [
        {
          "output_type": "execute_result",
          "data": {
            "text/plain": [
              "   cidade_SP  idade  sexo  obito  diabetes\n",
              "0  São Paulo     79     1      1         1\n",
              "1  São Paulo     65     1      0         1\n",
              "2  São Paulo     39     1      0         1\n",
              "3  São Paulo     54     1      0         1\n",
              "4  São Paulo     84     1      0         1"
            ],
            "text/html": [
              "\n",
              "  <div id=\"df-aca6b7df-b76a-4777-8f8d-70d1df97d595\">\n",
              "    <div class=\"colab-df-container\">\n",
              "      <div>\n",
              "<style scoped>\n",
              "    .dataframe tbody tr th:only-of-type {\n",
              "        vertical-align: middle;\n",
              "    }\n",
              "\n",
              "    .dataframe tbody tr th {\n",
              "        vertical-align: top;\n",
              "    }\n",
              "\n",
              "    .dataframe thead th {\n",
              "        text-align: right;\n",
              "    }\n",
              "</style>\n",
              "<table border=\"1\" class=\"dataframe\">\n",
              "  <thead>\n",
              "    <tr style=\"text-align: right;\">\n",
              "      <th></th>\n",
              "      <th>cidade_SP</th>\n",
              "      <th>idade</th>\n",
              "      <th>sexo</th>\n",
              "      <th>obito</th>\n",
              "      <th>diabetes</th>\n",
              "    </tr>\n",
              "  </thead>\n",
              "  <tbody>\n",
              "    <tr>\n",
              "      <th>0</th>\n",
              "      <td>São Paulo</td>\n",
              "      <td>79</td>\n",
              "      <td>1</td>\n",
              "      <td>1</td>\n",
              "      <td>1</td>\n",
              "    </tr>\n",
              "    <tr>\n",
              "      <th>1</th>\n",
              "      <td>São Paulo</td>\n",
              "      <td>65</td>\n",
              "      <td>1</td>\n",
              "      <td>0</td>\n",
              "      <td>1</td>\n",
              "    </tr>\n",
              "    <tr>\n",
              "      <th>2</th>\n",
              "      <td>São Paulo</td>\n",
              "      <td>39</td>\n",
              "      <td>1</td>\n",
              "      <td>0</td>\n",
              "      <td>1</td>\n",
              "    </tr>\n",
              "    <tr>\n",
              "      <th>3</th>\n",
              "      <td>São Paulo</td>\n",
              "      <td>54</td>\n",
              "      <td>1</td>\n",
              "      <td>0</td>\n",
              "      <td>1</td>\n",
              "    </tr>\n",
              "    <tr>\n",
              "      <th>4</th>\n",
              "      <td>São Paulo</td>\n",
              "      <td>84</td>\n",
              "      <td>1</td>\n",
              "      <td>0</td>\n",
              "      <td>1</td>\n",
              "    </tr>\n",
              "  </tbody>\n",
              "</table>\n",
              "</div>\n",
              "      <button class=\"colab-df-convert\" onclick=\"convertToInteractive('df-aca6b7df-b76a-4777-8f8d-70d1df97d595')\"\n",
              "              title=\"Convert this dataframe to an interactive table.\"\n",
              "              style=\"display:none;\">\n",
              "        \n",
              "  <svg xmlns=\"http://www.w3.org/2000/svg\" height=\"24px\"viewBox=\"0 0 24 24\"\n",
              "       width=\"24px\">\n",
              "    <path d=\"M0 0h24v24H0V0z\" fill=\"none\"/>\n",
              "    <path d=\"M18.56 5.44l.94 2.06.94-2.06 2.06-.94-2.06-.94-.94-2.06-.94 2.06-2.06.94zm-11 1L8.5 8.5l.94-2.06 2.06-.94-2.06-.94L8.5 2.5l-.94 2.06-2.06.94zm10 10l.94 2.06.94-2.06 2.06-.94-2.06-.94-.94-2.06-.94 2.06-2.06.94z\"/><path d=\"M17.41 7.96l-1.37-1.37c-.4-.4-.92-.59-1.43-.59-.52 0-1.04.2-1.43.59L10.3 9.45l-7.72 7.72c-.78.78-.78 2.05 0 2.83L4 21.41c.39.39.9.59 1.41.59.51 0 1.02-.2 1.41-.59l7.78-7.78 2.81-2.81c.8-.78.8-2.07 0-2.86zM5.41 20L4 18.59l7.72-7.72 1.47 1.35L5.41 20z\"/>\n",
              "  </svg>\n",
              "      </button>\n",
              "      \n",
              "  <style>\n",
              "    .colab-df-container {\n",
              "      display:flex;\n",
              "      flex-wrap:wrap;\n",
              "      gap: 12px;\n",
              "    }\n",
              "\n",
              "    .colab-df-convert {\n",
              "      background-color: #E8F0FE;\n",
              "      border: none;\n",
              "      border-radius: 50%;\n",
              "      cursor: pointer;\n",
              "      display: none;\n",
              "      fill: #1967D2;\n",
              "      height: 32px;\n",
              "      padding: 0 0 0 0;\n",
              "      width: 32px;\n",
              "    }\n",
              "\n",
              "    .colab-df-convert:hover {\n",
              "      background-color: #E2EBFA;\n",
              "      box-shadow: 0px 1px 2px rgba(60, 64, 67, 0.3), 0px 1px 3px 1px rgba(60, 64, 67, 0.15);\n",
              "      fill: #174EA6;\n",
              "    }\n",
              "\n",
              "    [theme=dark] .colab-df-convert {\n",
              "      background-color: #3B4455;\n",
              "      fill: #D2E3FC;\n",
              "    }\n",
              "\n",
              "    [theme=dark] .colab-df-convert:hover {\n",
              "      background-color: #434B5C;\n",
              "      box-shadow: 0px 1px 3px 1px rgba(0, 0, 0, 0.15);\n",
              "      filter: drop-shadow(0px 1px 2px rgba(0, 0, 0, 0.3));\n",
              "      fill: #FFFFFF;\n",
              "    }\n",
              "  </style>\n",
              "\n",
              "      <script>\n",
              "        const buttonEl =\n",
              "          document.querySelector('#df-aca6b7df-b76a-4777-8f8d-70d1df97d595 button.colab-df-convert');\n",
              "        buttonEl.style.display =\n",
              "          google.colab.kernel.accessAllowed ? 'block' : 'none';\n",
              "\n",
              "        async function convertToInteractive(key) {\n",
              "          const element = document.querySelector('#df-aca6b7df-b76a-4777-8f8d-70d1df97d595');\n",
              "          const dataTable =\n",
              "            await google.colab.kernel.invokeFunction('convertToInteractive',\n",
              "                                                     [key], {});\n",
              "          if (!dataTable) return;\n",
              "\n",
              "          const docLinkHtml = 'Like what you see? Visit the ' +\n",
              "            '<a target=\"_blank\" href=https://colab.research.google.com/notebooks/data_table.ipynb>data table notebook</a>'\n",
              "            + ' to learn more about interactive tables.';\n",
              "          element.innerHTML = '';\n",
              "          dataTable['output_type'] = 'display_data';\n",
              "          await google.colab.output.renderOutput(dataTable, element);\n",
              "          const docLink = document.createElement('div');\n",
              "          docLink.innerHTML = docLinkHtml;\n",
              "          element.appendChild(docLink);\n",
              "        }\n",
              "      </script>\n",
              "    </div>\n",
              "  </div>\n",
              "  "
            ]
          },
          "metadata": {},
          "execution_count": 53
        }
      ]
    },
    {
      "cell_type": "code",
      "source": [
        "# Definição do que é X e o que é Y:\n",
        "\n",
        "x = dados[[\"sexo\", \"idade\"]]\n",
        "y = dados[\"obito\"]\n",
        "\n",
        "print(x)\n",
        "print(y)"
      ],
      "metadata": {
        "colab": {
          "base_uri": "https://localhost:8080/"
        },
        "id": "L-K6F5DNIX4l",
        "outputId": "cfcb07d9-7cb8-4067-edde-a572ced8d222"
      },
      "execution_count": 54,
      "outputs": [
        {
          "output_type": "stream",
          "name": "stdout",
          "text": [
            "      sexo  idade\n",
            "0        1     79\n",
            "1        1     65\n",
            "2        1     39\n",
            "3        1     54\n",
            "4        1     84\n",
            "...    ...    ...\n",
            "3368     1     39\n",
            "3369     1     67\n",
            "3370     1     80\n",
            "3371     1     84\n",
            "3372     1     74\n",
            "\n",
            "[3373 rows x 2 columns]\n",
            "0       1\n",
            "1       0\n",
            "2       0\n",
            "3       0\n",
            "4       0\n",
            "       ..\n",
            "3368    0\n",
            "3369    0\n",
            "3370    0\n",
            "3371    1\n",
            "3372    0\n",
            "Name: obito, Length: 3373, dtype: int64\n"
          ]
        }
      ]
    },
    {
      "cell_type": "markdown",
      "source": [
        "# Treinamento "
      ],
      "metadata": {
        "id": "xK5jOHV_vtxp"
      }
    },
    {
      "cell_type": "code",
      "source": [
        "#Identificando o tamanho da base:\n",
        "#(linhas, colunas)\n",
        "dados.shape"
      ],
      "metadata": {
        "colab": {
          "base_uri": "https://localhost:8080/"
        },
        "id": "ymBM-FSSKD07",
        "outputId": "0f83b774-fbca-45e9-ec7b-dd14e6d6e783"
      },
      "execution_count": 55,
      "outputs": [
        {
          "output_type": "execute_result",
          "data": {
            "text/plain": [
              "(3373, 5)"
            ]
          },
          "metadata": {},
          "execution_count": 55
        }
      ]
    },
    {
      "cell_type": "markdown",
      "source": [
        "Gerando base de treinamento e teste"
      ],
      "metadata": {
        "id": "UHix0OJqyJwz"
      }
    },
    {
      "cell_type": "code",
      "source": [
        "treino_x = x[:70]\n",
        "treino_y = y[:70]\n",
        "\n",
        "teste_x = x[70:]\n",
        "teste_y = y[70:]\n",
        "\n",
        "print (f\"Treino: {len(treino_x)} e Teste: {len(teste_x)}\")"
      ],
      "metadata": {
        "colab": {
          "base_uri": "https://localhost:8080/"
        },
        "id": "K1nswY0GKItL",
        "outputId": "e42c24a5-f591-4ee3-84a8-7637c7692846"
      },
      "execution_count": 56,
      "outputs": [
        {
          "output_type": "stream",
          "name": "stdout",
          "text": [
            "Treino: 70 e Teste: 3303\n"
          ]
        }
      ]
    },
    {
      "cell_type": "markdown",
      "source": [
        "Treinamento do modelo:"
      ],
      "metadata": {
        "id": "m2v7wWLryT4D"
      }
    },
    {
      "cell_type": "markdown",
      "source": [
        "Ensinando o algoritmo para se adaptar com os dados e classificar (aprendizado supervisionado). Para isso vamos usar o fit:"
      ],
      "metadata": {
        "id": "DFOFptlYy_h4"
      }
    },
    {
      "cell_type": "code",
      "source": [
        "from sklearn.svm import LinearSVC         # Importa o modelo\n",
        "\n",
        "modelo = LinearSVC()                      # Cria o modelo\n",
        "modelo.fit(treino_x, treino_y)            # Treina o modelo criado"
      ],
      "metadata": {
        "colab": {
          "base_uri": "https://localhost:8080/"
        },
        "id": "ZarjqSMAIVIb",
        "outputId": "888ab2b5-85b5-4f12-b6a2-819b302f2525"
      },
      "execution_count": 57,
      "outputs": [
        {
          "output_type": "stream",
          "name": "stderr",
          "text": [
            "/usr/local/lib/python3.7/dist-packages/sklearn/svm/_base.py:1208: ConvergenceWarning: Liblinear failed to converge, increase the number of iterations.\n",
            "  ConvergenceWarning,\n"
          ]
        },
        {
          "output_type": "execute_result",
          "data": {
            "text/plain": [
              "LinearSVC()"
            ]
          },
          "metadata": {},
          "execution_count": 57
        }
      ]
    },
    {
      "cell_type": "markdown",
      "source": [
        "# Teste"
      ],
      "metadata": {
        "id": "bPS1OA4JzT4G"
      }
    },
    {
      "cell_type": "markdown",
      "source": [
        "Questionando o algoritmo e modelo utilizado para classificar (predizer) quais animais são:"
      ],
      "metadata": {
        "id": "9LntFFOi0WQ5"
      }
    },
    {
      "cell_type": "code",
      "source": [
        "previsoes = modelo.predict(teste_x)\n",
        "previsoes"
      ],
      "metadata": {
        "colab": {
          "base_uri": "https://localhost:8080/"
        },
        "id": "3Ug9YKoCL5fc",
        "outputId": "871c3d5b-81b5-4b41-ba1d-952926c095d0"
      },
      "execution_count": 58,
      "outputs": [
        {
          "output_type": "execute_result",
          "data": {
            "text/plain": [
              "array([0, 0, 0, ..., 0, 0, 0])"
            ]
          },
          "metadata": {},
          "execution_count": 58
        }
      ]
    },
    {
      "cell_type": "markdown",
      "source": [
        "Comparando a previsão obtida pelo algoritmo e o testesClasses (a fim de verificar quanto de acerto o algoritmo teve):"
      ],
      "metadata": {
        "id": "WkhlSywO0iF-"
      }
    },
    {
      "cell_type": "code",
      "source": [
        "previsoes == teste_y"
      ],
      "metadata": {
        "colab": {
          "base_uri": "https://localhost:8080/"
        },
        "id": "b_URNq_sT6La",
        "outputId": "354e9625-69bf-4e71-c5e3-c70aca5d0bd2"
      },
      "execution_count": 59,
      "outputs": [
        {
          "output_type": "execute_result",
          "data": {
            "text/plain": [
              "70       True\n",
              "71       True\n",
              "72       True\n",
              "73       True\n",
              "74       True\n",
              "        ...  \n",
              "3368     True\n",
              "3369     True\n",
              "3370     True\n",
              "3371    False\n",
              "3372     True\n",
              "Name: obito, Length: 3303, dtype: bool"
            ]
          },
          "metadata": {},
          "execution_count": 59
        }
      ]
    },
    {
      "cell_type": "markdown",
      "source": [
        "# Acurácia"
      ],
      "metadata": {
        "id": "G577OWsSzbcO"
      }
    },
    {
      "cell_type": "markdown",
      "source": [
        "Apresentando o resultado de acertos e erros da predição de forma automatica:"
      ],
      "metadata": {
        "id": "XaHIy7X-0sjm"
      }
    },
    {
      "cell_type": "code",
      "source": [
        "# Imputando a soma de acertos corretos numa variavel:\n",
        "corretos = (previsoes == teste_y).sum()                         # Faz a soma de todos itens corretos da comparação previsoes == testesClasses e guarda na variavel corretos;\n",
        "total = len(teste_y)                                            # Faz a soma de todos itens testados (a função len soma quantidade de itens), no caso animaisTestes;\n",
        "taxaAcerto = corretos/total                                     # Calcula a taxa (relação) entre itens corretos e total\n",
        "print (f\"Taxa de acerto: {taxaAcerto * 100}\")                   # Apresenta (imprime) a taxa de Acertos em porcentagem (por isso a multiplicação por 100)"
      ],
      "metadata": {
        "colab": {
          "base_uri": "https://localhost:8080/"
        },
        "id": "VFlzYsgGT_u3",
        "outputId": "89019ba5-708a-481b-9fdc-b420a572c21a"
      },
      "execution_count": 60,
      "outputs": [
        {
          "output_type": "stream",
          "name": "stdout",
          "text": [
            "Taxa de acerto: 75.3254617014835\n"
          ]
        }
      ]
    },
    {
      "cell_type": "markdown",
      "source": [
        "Importando a biblioteca sklearn.metrics e o modulo accuracy_score"
      ],
      "metadata": {
        "id": "iN7LQLz9039Y"
      }
    },
    {
      "cell_type": "code",
      "source": [
        "from sklearn.metrics import accuracy_score"
      ],
      "metadata": {
        "id": "LnthPg2WUEwp"
      },
      "execution_count": 61,
      "outputs": []
    },
    {
      "cell_type": "markdown",
      "source": [
        "Chame o accuracy_score, utilizando a seguinte sintaxe:\n",
        "\n",
        "VARIAVEL = accuracy_score(TESTE_VERDADEIRO, PREDIÇÃO"
      ],
      "metadata": {
        "id": "VCEKMCvy06H2"
      }
    },
    {
      "cell_type": "code",
      "source": [
        "acerto = accuracy_score(teste_y, previsoes)\n",
        "print(acerto)"
      ],
      "metadata": {
        "colab": {
          "base_uri": "https://localhost:8080/"
        },
        "id": "4ICS0WAeUGxi",
        "outputId": "bb74e6b5-bd54-4fdf-937f-4b145c9acf1d"
      },
      "execution_count": 62,
      "outputs": [
        {
          "output_type": "stream",
          "name": "stdout",
          "text": [
            "0.753254617014835\n"
          ]
        }
      ]
    },
    {
      "cell_type": "markdown",
      "source": [
        "# TREINAMENTO / TESTE / ACURACIA - LINEARSVC"
      ],
      "metadata": {
        "id": "dyLzrlvCDce8"
      }
    },
    {
      "cell_type": "markdown",
      "source": [
        "Importando as bibliotecas e modulos necessarios:"
      ],
      "metadata": {
        "id": "0Hdux8mBDhbo"
      }
    },
    {
      "cell_type": "code",
      "source": [
        "from sklearn.svm import LinearSVC\n",
        "from sklearn.metrics import accuracy_score"
      ],
      "metadata": {
        "id": "9STFrkJFDkZr"
      },
      "execution_count": 63,
      "outputs": []
    },
    {
      "cell_type": "markdown",
      "source": [
        "Treinando, Testando e Acuracia:"
      ],
      "metadata": {
        "id": "SBwBETaVDmlb"
      }
    },
    {
      "cell_type": "code",
      "source": [
        "# Treinando:\n",
        "modelo = LinearSVC()\n",
        "modelo.fit(treino_x, treino_y)\n",
        "\n",
        "# Testando:\n",
        "previsoes = modelo.predict(teste_x)\n",
        "\n",
        "# Acurácia:\n",
        "acuracia = accuracy_score(teste_y, previsoes)*100\n",
        "print(f\"Acuracia: {acuracia:.2f}\")"
      ],
      "metadata": {
        "colab": {
          "base_uri": "https://localhost:8080/"
        },
        "id": "SBx3vnA2Dotg",
        "outputId": "d439820b-b4f1-4f12-cff4-4b50c2cf641a"
      },
      "execution_count": 64,
      "outputs": [
        {
          "output_type": "stream",
          "name": "stdout",
          "text": [
            "Acuracia: 75.33\n"
          ]
        },
        {
          "output_type": "stream",
          "name": "stderr",
          "text": [
            "/usr/local/lib/python3.7/dist-packages/sklearn/svm/_base.py:1208: ConvergenceWarning: Liblinear failed to converge, increase the number of iterations.\n",
            "  ConvergenceWarning,\n"
          ]
        }
      ]
    },
    {
      "cell_type": "markdown",
      "source": [
        "# TREINAMENTO / TESTE / ACURACIA - DUMMYCLASSIFIER"
      ],
      "metadata": {
        "id": "gAglIk7zDt-K"
      }
    },
    {
      "cell_type": "markdown",
      "source": [
        "Importando as bibliotecas e modulos necessarios:"
      ],
      "metadata": {
        "id": "Ui12nIHtDxu0"
      }
    },
    {
      "cell_type": "code",
      "source": [
        "from sklearn.dummy import DummyClassifier"
      ],
      "metadata": {
        "id": "z08btz4JDzpZ"
      },
      "execution_count": 65,
      "outputs": []
    },
    {
      "cell_type": "markdown",
      "source": [
        "DUMMY STRATIFIED - Treinando, Testando e Acuracia:"
      ],
      "metadata": {
        "id": "8IBsSiUdD1QK"
      }
    },
    {
      "cell_type": "code",
      "source": [
        "# Treinando:\n",
        "dummy_stratified = DummyClassifier()\n",
        "dummy_stratified.fit(treino_x, treino_y)\n",
        "\n",
        "# Testando:\n",
        "previsoes2 = dummy_stratified.predict(teste_x)\n",
        "\n",
        "# Acurácia:\n",
        "acuracia2 = accuracy_score(teste_y, previsoes2)*100\n",
        "print(f\"Acuracia Dummy Stratified: {acuracia2:.2f}\")"
      ],
      "metadata": {
        "colab": {
          "base_uri": "https://localhost:8080/"
        },
        "id": "sb9EbG5ND5HB",
        "outputId": "1d517765-e8c7-4340-a9f4-e55888a43bb5"
      },
      "execution_count": 66,
      "outputs": [
        {
          "output_type": "stream",
          "name": "stdout",
          "text": [
            "Acuracia Dummy Stratified: 75.33\n"
          ]
        }
      ]
    },
    {
      "cell_type": "markdown",
      "source": [
        "DUMMY MOSTFREQUENT - Treinando, Testando e Acuracia:"
      ],
      "metadata": {
        "id": "EwguBn4hD-Sp"
      }
    },
    {
      "cell_type": "code",
      "source": [
        "# Treinando:\n",
        "dummy_mostfrequent = DummyClassifier()\n",
        "dummy_mostfrequent.fit(treino_x, treino_y)\n",
        "\n",
        "# Testando:\n",
        "previsoes3 = dummy_mostfrequent.predict(teste_x)\n",
        "\n",
        "# Acurácia:\n",
        "acuracia3 = accuracy_score(teste_y, previsoes3)*100\n",
        "print(f\"Acuracia Dummy Mostfrequent: {acuracia3:.2f}\")"
      ],
      "metadata": {
        "colab": {
          "base_uri": "https://localhost:8080/"
        },
        "id": "lhEZFnRdD_RJ",
        "outputId": "d21c7e4d-1c8d-4c00-ce67-040d98ba9bcd"
      },
      "execution_count": 67,
      "outputs": [
        {
          "output_type": "stream",
          "name": "stdout",
          "text": [
            "Acuracia Dummy Mostfrequent: 75.33\n"
          ]
        }
      ]
    },
    {
      "cell_type": "markdown",
      "source": [
        "#Base de dados 2"
      ],
      "metadata": {
        "id": "oENu1EOjEIpY"
      }
    },
    {
      "cell_type": "markdown",
      "source": [
        "Importando as bibliotecas e modulos necessarios:"
      ],
      "metadata": {
        "id": "Fyeu1C1nELOp"
      }
    },
    {
      "cell_type": "code",
      "source": [
        "from sklearn.preprocessing import StandardScaler\n",
        "from sklearn.svm import SVC\n",
        "import numpy as np "
      ],
      "metadata": {
        "id": "crNVZbaYERmh"
      },
      "execution_count": 68,
      "outputs": []
    },
    {
      "cell_type": "markdown",
      "source": [
        "Criando uma nova base com proporcionalidade (estratificação):"
      ],
      "metadata": {
        "id": "raHk8tX3NWU1"
      }
    },
    {
      "cell_type": "code",
      "source": [
        "from sklearn.model_selection import train_test_split\n",
        "SEED = 20\n",
        "treino_x, teste_x, treino_y, teste_y = train_test_split(x, y, \n",
        "                                                        random_state = SEED, test_size = 0.30,\n",
        "                                                        stratify = y)\n",
        "\n",
        "print(f\"Treino: {len(treino_x)} - Teste: {len(teste_x)}\")"
      ],
      "metadata": {
        "colab": {
          "base_uri": "https://localhost:8080/"
        },
        "id": "4SLHejW6NRZG",
        "outputId": "0185d0e6-df63-4e56-ac70-938ab4c187cb"
      },
      "execution_count": 69,
      "outputs": [
        {
          "output_type": "stream",
          "name": "stdout",
          "text": [
            "Treino: 2361 - Teste: 1012\n"
          ]
        }
      ]
    },
    {
      "cell_type": "markdown",
      "source": [
        "Recriando as bases de dados - SVC:"
      ],
      "metadata": {
        "id": "mLlVTov3EVMI"
      }
    },
    {
      "cell_type": "code",
      "source": [
        "SEED = 20\n",
        "np.random.seed(SEED)\n",
        "raw_treino_x, raw_teste_x, treino_y, teste_y = train_test_split(x, y, test_size = 0.30,\n",
        "                                                                stratify = y)\n",
        "print (f\"Treino: {len(treino_x)} | Teste: {len(teste_x)}\")\n",
        "\n",
        "scaler = StandardScaler()\n",
        "scaler.fit(raw_treino_x)\n",
        "\n",
        "treino_x = scaler.transform(raw_treino_x)\n",
        "teste_x = scaler.transform(raw_teste_x)"
      ],
      "metadata": {
        "colab": {
          "base_uri": "https://localhost:8080/"
        },
        "id": "1qc0nNziEa-a",
        "outputId": "2dd8b420-71cf-457c-f4d5-129e142c70c2"
      },
      "execution_count": 70,
      "outputs": [
        {
          "output_type": "stream",
          "name": "stdout",
          "text": [
            "Treino: 2361 | Teste: 1012\n"
          ]
        }
      ]
    },
    {
      "cell_type": "markdown",
      "source": [
        "# TREINAMENTO / TESTE / ACURACIA - SVC"
      ],
      "metadata": {
        "id": "bCRPBIZEEgQx"
      }
    },
    {
      "cell_type": "markdown",
      "source": [
        "Treinando, Testando e Acurácia com Modelo Sklearn SVC:"
      ],
      "metadata": {
        "id": "BZL_nqsSEja4"
      }
    },
    {
      "cell_type": "code",
      "source": [
        "# Treinando:\n",
        "modelo2 = SVC()\n",
        "modelo2.fit(treino_x, treino_y)\n",
        "\n",
        "# Testando:\n",
        "previsoes4 = modelo2.predict(teste_x)\n",
        "\n",
        "# Acurácia:\n",
        "acuracia4 = accuracy_score(teste_y, previsoes4)*100\n",
        "print(f\"Acuracia Modelo SVC: {acuracia4:.2f}%\")"
      ],
      "metadata": {
        "colab": {
          "base_uri": "https://localhost:8080/"
        },
        "id": "sfUii0t2El6w",
        "outputId": "7f606f08-ab47-47e3-8210-35532c5a5961"
      },
      "execution_count": 71,
      "outputs": [
        {
          "output_type": "stream",
          "name": "stdout",
          "text": [
            "Acuracia Modelo SVC: 75.20%\n"
          ]
        }
      ]
    }
  ]
}